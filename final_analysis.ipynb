{
  "nbformat": 4,
  "nbformat_minor": 0,
  "metadata": {
    "colab": {
      "name": "final analysis.ipynb",
      "provenance": [],
      "collapsed_sections": [],
      "authorship_tag": "ABX9TyNMbW3nbzsa1vKKZCpmESpZ",
      "include_colab_link": true
    },
    "kernelspec": {
      "name": "python3",
      "display_name": "Python 3"
    }
  },
  "cells": [
    {
      "cell_type": "markdown",
      "metadata": {
        "id": "view-in-github",
        "colab_type": "text"
      },
      "source": [
        "<a href=\"https://colab.research.google.com/github/nitinmukesh681/GoogleColabFiles/blob/master/final_analysis.ipynb\" target=\"_parent\"><img src=\"https://colab.research.google.com/assets/colab-badge.svg\" alt=\"Open In Colab\"/></a>"
      ]
    },
    {
      "cell_type": "code",
      "metadata": {
        "id": "L7DKLzFowZfx",
        "colab_type": "code",
        "outputId": "5be3adc4-cb3f-45de-de4f-d31611dc07dc",
        "colab": {
          "base_uri": "https://localhost:8080/",
          "height": 74
        }
      },
      "source": [
        "import pandas as pd\n",
        "import matplotlib.pyplot as plt\n",
        "import seaborn as sns\n",
        "import numpy as np\n",
        "from matplotlib import dates\n",
        "sns.set_style(\"whitegrid\")"
      ],
      "execution_count": 0,
      "outputs": [
        {
          "output_type": "stream",
          "text": [
            "/usr/local/lib/python3.6/dist-packages/statsmodels/tools/_testing.py:19: FutureWarning: pandas.util.testing is deprecated. Use the functions in the public API at pandas.testing instead.\n",
            "  import pandas.util.testing as tm\n"
          ],
          "name": "stderr"
        }
      ]
    },
    {
      "cell_type": "code",
      "metadata": {
        "id": "50ZDfERqwu6J",
        "colab_type": "code",
        "colab": {}
      },
      "source": [
        "dataset = pd.read_csv('https://covid.ourworldindata.org/data/ecdc/full_data.csv',parse_dates=True)"
      ],
      "execution_count": 0,
      "outputs": []
    },
    {
      "cell_type": "code",
      "metadata": {
        "id": "NLTLYIRZwwxR",
        "colab_type": "code",
        "colab": {}
      },
      "source": [
        "dataset['date'] = pd.to_datetime(dataset['date'])"
      ],
      "execution_count": 0,
      "outputs": []
    },
    {
      "cell_type": "code",
      "metadata": {
        "id": "WmfOMMm2w1OW",
        "colab_type": "code",
        "outputId": "3078f608-596b-40b4-ea69-3ef65e55919e",
        "colab": {
          "base_uri": "https://localhost:8080/",
          "height": 145
        }
      },
      "source": [
        "dataset.dtypes"
      ],
      "execution_count": 0,
      "outputs": [
        {
          "output_type": "execute_result",
          "data": {
            "text/plain": [
              "date            datetime64[ns]\n",
              "location                object\n",
              "new_cases                int64\n",
              "new_deaths               int64\n",
              "total_cases              int64\n",
              "total_deaths             int64\n",
              "dtype: object"
            ]
          },
          "metadata": {
            "tags": []
          },
          "execution_count": 5
        }
      ]
    },
    {
      "cell_type": "code",
      "metadata": {
        "id": "9kb2JyL0w13P",
        "colab_type": "code",
        "colab": {}
      },
      "source": [
        "dataset = dataset.set_index('date')"
      ],
      "execution_count": 0,
      "outputs": []
    },
    {
      "cell_type": "code",
      "metadata": {
        "id": "_6wBoJo8w4_w",
        "colab_type": "code",
        "colab": {}
      },
      "source": [
        "india_dataset = dataset[dataset['location']=='India']['2020-02-15':]"
      ],
      "execution_count": 0,
      "outputs": []
    },
    {
      "cell_type": "code",
      "metadata": {
        "id": "AD0Xu-1vi2CI",
        "colab_type": "code",
        "outputId": "afdec2b6-85a2-477a-da85-05a0e742cc55",
        "colab": {
          "base_uri": "https://localhost:8080/",
          "height": 288
        }
      },
      "source": [
        "india_dataset.describe()"
      ],
      "execution_count": 0,
      "outputs": [
        {
          "output_type": "execute_result",
          "data": {
            "text/html": [
              "<div>\n",
              "<style scoped>\n",
              "    .dataframe tbody tr th:only-of-type {\n",
              "        vertical-align: middle;\n",
              "    }\n",
              "\n",
              "    .dataframe tbody tr th {\n",
              "        vertical-align: top;\n",
              "    }\n",
              "\n",
              "    .dataframe thead th {\n",
              "        text-align: right;\n",
              "    }\n",
              "</style>\n",
              "<table border=\"1\" class=\"dataframe\">\n",
              "  <thead>\n",
              "    <tr style=\"text-align: right;\">\n",
              "      <th></th>\n",
              "      <th>new_cases</th>\n",
              "      <th>new_deaths</th>\n",
              "      <th>total_cases</th>\n",
              "      <th>total_deaths</th>\n",
              "    </tr>\n",
              "  </thead>\n",
              "  <tbody>\n",
              "    <tr>\n",
              "      <th>count</th>\n",
              "      <td>65.000000</td>\n",
              "      <td>65.000000</td>\n",
              "      <td>65.000000</td>\n",
              "      <td>65.000000</td>\n",
              "    </tr>\n",
              "    <tr>\n",
              "      <th>mean</th>\n",
              "      <td>265.569231</td>\n",
              "      <td>8.353846</td>\n",
              "      <td>2562.246154</td>\n",
              "      <td>78.892308</td>\n",
              "    </tr>\n",
              "    <tr>\n",
              "      <th>std</th>\n",
              "      <td>410.066266</td>\n",
              "      <td>13.626067</td>\n",
              "      <td>4470.514302</td>\n",
              "      <td>145.716133</td>\n",
              "    </tr>\n",
              "    <tr>\n",
              "      <th>min</th>\n",
              "      <td>0.000000</td>\n",
              "      <td>0.000000</td>\n",
              "      <td>3.000000</td>\n",
              "      <td>0.000000</td>\n",
              "    </tr>\n",
              "    <tr>\n",
              "      <th>25%</th>\n",
              "      <td>0.000000</td>\n",
              "      <td>0.000000</td>\n",
              "      <td>3.000000</td>\n",
              "      <td>0.000000</td>\n",
              "    </tr>\n",
              "    <tr>\n",
              "      <th>50%</th>\n",
              "      <td>28.000000</td>\n",
              "      <td>0.000000</td>\n",
              "      <td>165.000000</td>\n",
              "      <td>3.000000</td>\n",
              "    </tr>\n",
              "    <tr>\n",
              "      <th>75%</th>\n",
              "      <td>472.000000</td>\n",
              "      <td>9.000000</td>\n",
              "      <td>2902.000000</td>\n",
              "      <td>68.000000</td>\n",
              "    </tr>\n",
              "    <tr>\n",
              "      <th>max</th>\n",
              "      <td>1553.000000</td>\n",
              "      <td>43.000000</td>\n",
              "      <td>17265.000000</td>\n",
              "      <td>543.000000</td>\n",
              "    </tr>\n",
              "  </tbody>\n",
              "</table>\n",
              "</div>"
            ],
            "text/plain": [
              "         new_cases  new_deaths   total_cases  total_deaths\n",
              "count    65.000000   65.000000     65.000000     65.000000\n",
              "mean    265.569231    8.353846   2562.246154     78.892308\n",
              "std     410.066266   13.626067   4470.514302    145.716133\n",
              "min       0.000000    0.000000      3.000000      0.000000\n",
              "25%       0.000000    0.000000      3.000000      0.000000\n",
              "50%      28.000000    0.000000    165.000000      3.000000\n",
              "75%     472.000000    9.000000   2902.000000     68.000000\n",
              "max    1553.000000   43.000000  17265.000000    543.000000"
            ]
          },
          "metadata": {
            "tags": []
          },
          "execution_count": 170
        }
      ]
    },
    {
      "cell_type": "code",
      "metadata": {
        "id": "Q1sWp0T8J6z3",
        "colab_type": "code",
        "outputId": "8b483c2a-5cf0-4d84-bf14-f3cdd42d9078",
        "colab": {
          "base_uri": "https://localhost:8080/",
          "height": 456
        }
      },
      "source": [
        "ax = india_dataset[['total_cases']].plot.bar(figsize=(17,8),colormap='Accent')\n",
        "ax.set_ylabel('cumulative number of cases ')\n",
        "ax.set_title('cumulative number of cases in India')"
      ],
      "execution_count": 0,
      "outputs": [
        {
          "output_type": "execute_result",
          "data": {
            "text/plain": [
              "Text(0.5, 1.0, 'cumulative number of cases in India')"
            ]
          },
          "metadata": {
            "tags": []
          },
          "execution_count": 8
        },
        {
          "output_type": "display_data",
          "data": {
            "image/png": "[encoded data removed]",
            "text/plain": [
              "<Figure size 1224x576 with 1 Axes>"
            ]
          },
          "metadata": {
            "tags": []
          }
        }
      ]
    },
    {
      "cell_type": "code",
      "metadata": {
        "id": "QtIGAyeZMMwo",
        "colab_type": "code",
        "outputId": "6aae6286-a61e-4bcb-8a98-6d4f428c5362",
        "colab": {
          "base_uri": "https://localhost:8080/",
          "height": 462
        }
      },
      "source": [
        "ax1 = india_dataset[['total_deaths']].plot.bar(figsize=(17,8),colormap='gist_rainbow')\n",
        "ax1.set_ylabel('cumulative number of deaths ')\n",
        "ax1.set_title('cumulative number of deaths in India')"
      ],
      "execution_count": 0,
      "outputs": [
        {
          "output_type": "execute_result",
          "data": {
            "text/plain": [
              "Text(0.5, 1.0, 'cumulative number of deaths in India')"
            ]
          },
          "metadata": {
            "tags": []
          },
          "execution_count": 9
        },
        {
          "output_type": "display_data",
          "data": {
            "image/png": "[encoded data removed]",
            "text/plain": [
              "<Figure size 1224x576 with 1 Axes>"
            ]
          },
          "metadata": {
            "tags": []
          }
        }
      ]
    },
    {
      "cell_type": "code",
      "metadata": {
        "id": "AWUCiuQCNdi4",
        "colab_type": "code",
        "outputId": "fb0a8444-58ed-4bf0-ce7d-16ebc0b19405",
        "colab": {
          "base_uri": "https://localhost:8080/",
          "height": 459
        }
      },
      "source": [
        "ax2 = india_dataset[['new_cases']].plot.bar(figsize=(17,8),colormap='Accent')\n",
        "ax2.set_ylabel('cases')\n",
        "ax2.set_title('New number of cases in India (daily)')"
      ],
      "execution_count": 0,
      "outputs": [
        {
          "output_type": "execute_result",
          "data": {
            "text/plain": [
              "Text(0.5, 1.0, 'New number of cases in India (daily)')"
            ]
          },
          "metadata": {
            "tags": []
          },
          "execution_count": 10
        },
        {
          "output_type": "display_data",
          "data": {
            "image/png": "[encoded data removed]",
            "text/plain": [
              "<Figure size 1224x576 with 1 Axes>"
            ]
          },
          "metadata": {
            "tags": []
          }
        }
      ]
    },
    {
      "cell_type": "code",
      "metadata": {
        "id": "KLnviwA_xaw7",
        "colab_type": "code",
        "outputId": "105adc9d-27b8-4767-b9e3-6c7171537e31",
        "colab": {
          "base_uri": "https://localhost:8080/",
          "height": 542
        }
      },
      "source": [
        "#plot of new Cases in India\n",
        "plt.figure(figsize=(12,9))\n",
        "ax3 = india_dataset['new_cases'].plot(color='blueviolet',lw=3)\n",
        "ax3.set_xlabel('Date')\n",
        "ax3.set_ylabel('number of cases')\n",
        "ax3.set_title('New cases in India(daily)')\n",
        "\n",
        "plt.show()"
      ],
      "execution_count": 0,
      "outputs": [
        {
          "output_type": "display_data",
          "data": {
            "image/png": "[encoded data removed]",
            "text/plain": [
              "<Figure size 864x648 with 1 Axes>"
            ]
          },
          "metadata": {
            "tags": []
          }
        }
      ]
    },
    {
      "cell_type": "code",
      "metadata": {
        "id": "tsQZPvrhPToL",
        "colab_type": "code",
        "outputId": "e9f8b775-d0f2-46cb-c375-903227e2f13f",
        "colab": {
          "base_uri": "https://localhost:8080/",
          "height": 465
        }
      },
      "source": [
        "ax4 = india_dataset[['new_deaths']].plot.bar(figsize=(17,8),colormap='gist_rainbow')\n",
        "ax4.set_ylabel('new deaths')\n",
        "ax4.set_title('New number of deaths in India (daily)')"
      ],
      "execution_count": 0,
      "outputs": [
        {
          "output_type": "execute_result",
          "data": {
            "text/plain": [
              "Text(0.5, 1.0, 'New number of deaths in India (daily)')"
            ]
          },
          "metadata": {
            "tags": []
          },
          "execution_count": 12
        },
        {
          "output_type": "display_data",
          "data": {
            "image/png": "[encoded data removed]",
            "text/plain": [
              "<Figure size 1224x576 with 1 Axes>"
            ]
          },
          "metadata": {
            "tags": []
          }
        }
      ]
    },
    {
      "cell_type": "code",
      "metadata": {
        "id": "8E6B3GbEPm_R",
        "colab_type": "code",
        "outputId": "d5b3abf8-8fae-4ea9-c60d-9f96850df4e9",
        "colab": {
          "base_uri": "https://localhost:8080/",
          "height": 546
        }
      },
      "source": [
        "#plot of new Cases in India\n",
        "plt.figure(figsize=(12,9))\n",
        "ax3 = india_dataset['new_deaths'].plot(color='indianred',lw=3)\n",
        "ax3.set_xlabel('Date')\n",
        "ax3.set_ylabel('new deaths')\n",
        "ax3.set_title('New deaths in India(daily)')\n",
        "\n",
        "plt.show()"
      ],
      "execution_count": 0,
      "outputs": [
        {
          "output_type": "display_data",
          "data": {
            "image/png": "[encoded data removed]",
            "text/plain": [
              "<Figure size 864x648 with 1 Axes>"
            ]
          },
          "metadata": {
            "tags": []
          }
        }
      ]
    },
    {
      "cell_type": "markdown",
      "metadata": {
        "id": "rYz23zpMzQy6",
        "colab_type": "text"
      },
      "source": [
        "## Moving Avaerage Model (based on last 7 observation)\n",
        "\n",
        "###Basic Setup\n",
        "1. We will choose window size = 3 for now\n",
        "\n",
        "2. We will select the dataset of last 10 days as our test data and calculate mean squared error and mean percentage error"
      ]
    },
    {
      "cell_type": "code",
      "metadata": {
        "id": "LAzQOe--AUv_",
        "colab_type": "code",
        "colab": {}
      },
      "source": [
        "train_india_total_cases = india_dataset[['total_cases']][:'2020-04-10']"
      ],
      "execution_count": 0,
      "outputs": []
    },
    {
      "cell_type": "markdown",
      "metadata": {
        "id": "KMIscrZhDDXt",
        "colab_type": "text"
      },
      "source": [
        "\n",
        "\n",
        "test data\n"
      ]
    },
    {
      "cell_type": "code",
      "metadata": {
        "id": "AbrTzeDMC5Mc",
        "colab_type": "code",
        "colab": {}
      },
      "source": [
        "test_india_total_cases = india_dataset[['total_cases']]['2020-04-10':]"
      ],
      "execution_count": 0,
      "outputs": []
    },
    {
      "cell_type": "code",
      "metadata": {
        "id": "QSh5_Ud3zucc",
        "colab_type": "code",
        "colab": {}
      },
      "source": [
        "train_india_total_cases['MA_3'] = train_india_total_cases['total_cases'].rolling(window=3).mean()"
      ],
      "execution_count": 0,
      "outputs": []
    },
    {
      "cell_type": "code",
      "metadata": {
        "id": "5a-OI7oIzu4L",
        "colab_type": "code",
        "outputId": "46e47113-5617-47db-d727-4f833a26b4df",
        "colab": {
          "base_uri": "https://localhost:8080/",
          "height": 228
        }
      },
      "source": [
        "train_india_total_cases.tail()"
      ],
      "execution_count": 0,
      "outputs": [
        {
          "output_type": "execute_result",
          "data": {
            "text/html": [
              "<div>\n",
              "<style scoped>\n",
              "    .dataframe tbody tr th:only-of-type {\n",
              "        vertical-align: middle;\n",
              "    }\n",
              "\n",
              "    .dataframe tbody tr th {\n",
              "        vertical-align: top;\n",
              "    }\n",
              "\n",
              "    .dataframe thead th {\n",
              "        text-align: right;\n",
              "    }\n",
              "</style>\n",
              "<table border=\"1\" class=\"dataframe\">\n",
              "  <thead>\n",
              "    <tr style=\"text-align: right;\">\n",
              "      <th></th>\n",
              "      <th>total_cases</th>\n",
              "      <th>MA_3</th>\n",
              "    </tr>\n",
              "    <tr>\n",
              "      <th>date</th>\n",
              "      <th></th>\n",
              "      <th></th>\n",
              "    </tr>\n",
              "  </thead>\n",
              "  <tbody>\n",
              "    <tr>\n",
              "      <th>2020-04-06</th>\n",
              "      <td>4067</td>\n",
              "      <td>3447.666667</td>\n",
              "    </tr>\n",
              "    <tr>\n",
              "      <th>2020-04-07</th>\n",
              "      <td>4421</td>\n",
              "      <td>3954.000000</td>\n",
              "    </tr>\n",
              "    <tr>\n",
              "      <th>2020-04-08</th>\n",
              "      <td>5194</td>\n",
              "      <td>4560.666667</td>\n",
              "    </tr>\n",
              "    <tr>\n",
              "      <th>2020-04-09</th>\n",
              "      <td>5734</td>\n",
              "      <td>5116.333333</td>\n",
              "    </tr>\n",
              "    <tr>\n",
              "      <th>2020-04-10</th>\n",
              "      <td>6412</td>\n",
              "      <td>5780.000000</td>\n",
              "    </tr>\n",
              "  </tbody>\n",
              "</table>\n",
              "</div>"
            ],
            "text/plain": [
              "            total_cases         MA_3\n",
              "date                                \n",
              "2020-04-06         4067  3447.666667\n",
              "2020-04-07         4421  3954.000000\n",
              "2020-04-08         5194  4560.666667\n",
              "2020-04-09         5734  5116.333333\n",
              "2020-04-10         6412  5780.000000"
            ]
          },
          "metadata": {
            "tags": []
          },
          "execution_count": 17
        }
      ]
    },
    {
      "cell_type": "code",
      "metadata": {
        "id": "v7mL7cDG1KrO",
        "colab_type": "code",
        "outputId": "965b2322-3a70-4f0d-d8b1-290383a3b262",
        "colab": {
          "base_uri": "https://localhost:8080/",
          "height": 415
        }
      },
      "source": [
        "train_india_total_cases[['total_cases','MA_3']].plot(legend=True,figsize=(15,8),lw=2.5)"
      ],
      "execution_count": 0,
      "outputs": [
        {
          "output_type": "execute_result",
          "data": {
            "text/plain": [
              "<matplotlib.axes._subplots.AxesSubplot at 0x7f3cd76bfe48>"
            ]
          },
          "metadata": {
            "tags": []
          },
          "execution_count": 18
        },
        {
          "output_type": "display_data",
          "data": {
            "image/png": "[encoded data removed]",
            "text/plain": [
              "<Figure size 1080x576 with 1 Axes>"
            ]
          },
          "metadata": {
            "tags": []
          }
        }
      ]
    },
    {
      "cell_type": "markdown",
      "metadata": {
        "id": "BRTuqKS8BQDQ",
        "colab_type": "text"
      },
      "source": [
        "### now predict for the last ten days  and find and mean squared error"
      ]
    },
    {
      "cell_type": "code",
      "metadata": {
        "id": "BM3rIxNt2JJk",
        "colab_type": "code",
        "colab": {}
      },
      "source": [
        "from sklearn.metrics import mean_absolute_error,mean_squared_error\n",
        "import numpy as np"
      ],
      "execution_count": 0,
      "outputs": []
    },
    {
      "cell_type": "code",
      "metadata": {
        "id": "Kw3S_7adBYLq",
        "colab_type": "code",
        "colab": {}
      },
      "source": [
        "y_hat = list(train_india_total_cases[-3:]['total_cases'])\n",
        "k=3\n",
        "for _ in range(0,11):\n",
        "  y_hat.append(np.mean(y_hat[-3:]))"
      ],
      "execution_count": 0,
      "outputs": []
    },
    {
      "cell_type": "code",
      "metadata": {
        "id": "DXMNw_WjCJpv",
        "colab_type": "code",
        "colab": {}
      },
      "source": [
        "y_hat = y_hat[3:]"
      ],
      "execution_count": 0,
      "outputs": []
    },
    {
      "cell_type": "code",
      "metadata": {
        "id": "dwAs0sFOEuy4",
        "colab_type": "code",
        "outputId": "62b569ff-76ab-4679-f54f-2416b3576c52",
        "colab": {
          "base_uri": "https://localhost:8080/",
          "height": 54
        }
      },
      "source": [
        "print(len(y_hat))\n",
        "print(len(test_india_total_cases))"
      ],
      "execution_count": 0,
      "outputs": [
        {
          "output_type": "stream",
          "text": [
            "11\n",
            "11\n"
          ],
          "name": "stdout"
        }
      ]
    },
    {
      "cell_type": "code",
      "metadata": {
        "id": "HqpUZtCXG501",
        "colab_type": "code",
        "colab": {}
      },
      "source": [
        "test_india_total_cases['predictedMA_3'] = y_hat"
      ],
      "execution_count": 0,
      "outputs": []
    },
    {
      "cell_type": "code",
      "metadata": {
        "id": "Q61GEs3_HANT",
        "colab_type": "code",
        "outputId": "687bb280-0964-448c-c67a-1b55b425cd96",
        "colab": {
          "base_uri": "https://localhost:8080/",
          "height": 408
        }
      },
      "source": [
        "test_india_total_cases"
      ],
      "execution_count": 0,
      "outputs": [
        {
          "output_type": "execute_result",
          "data": {
            "text/html": [
              "<div>\n",
              "<style scoped>\n",
              "    .dataframe tbody tr th:only-of-type {\n",
              "        vertical-align: middle;\n",
              "    }\n",
              "\n",
              "    .dataframe tbody tr th {\n",
              "        vertical-align: top;\n",
              "    }\n",
              "\n",
              "    .dataframe thead th {\n",
              "        text-align: right;\n",
              "    }\n",
              "</style>\n",
              "<table border=\"1\" class=\"dataframe\">\n",
              "  <thead>\n",
              "    <tr style=\"text-align: right;\">\n",
              "      <th></th>\n",
              "      <th>total_cases</th>\n",
              "      <th>predictedMA_3</th>\n",
              "    </tr>\n",
              "    <tr>\n",
              "      <th>date</th>\n",
              "      <th></th>\n",
              "      <th></th>\n",
              "    </tr>\n",
              "  </thead>\n",
              "  <tbody>\n",
              "    <tr>\n",
              "      <th>2020-04-10</th>\n",
              "      <td>6412</td>\n",
              "      <td>5780.000000</td>\n",
              "    </tr>\n",
              "    <tr>\n",
              "      <th>2020-04-11</th>\n",
              "      <td>7447</td>\n",
              "      <td>5975.333333</td>\n",
              "    </tr>\n",
              "    <tr>\n",
              "      <th>2020-04-12</th>\n",
              "      <td>8356</td>\n",
              "      <td>6055.777778</td>\n",
              "    </tr>\n",
              "    <tr>\n",
              "      <th>2020-04-13</th>\n",
              "      <td>9152</td>\n",
              "      <td>5937.037037</td>\n",
              "    </tr>\n",
              "    <tr>\n",
              "      <th>2020-04-14</th>\n",
              "      <td>10363</td>\n",
              "      <td>5989.382716</td>\n",
              "    </tr>\n",
              "    <tr>\n",
              "      <th>2020-04-15</th>\n",
              "      <td>11438</td>\n",
              "      <td>5994.065844</td>\n",
              "    </tr>\n",
              "    <tr>\n",
              "      <th>2020-04-16</th>\n",
              "      <td>12380</td>\n",
              "      <td>5973.495199</td>\n",
              "    </tr>\n",
              "    <tr>\n",
              "      <th>2020-04-17</th>\n",
              "      <td>13387</td>\n",
              "      <td>5985.647920</td>\n",
              "    </tr>\n",
              "    <tr>\n",
              "      <th>2020-04-18</th>\n",
              "      <td>14378</td>\n",
              "      <td>5984.402987</td>\n",
              "    </tr>\n",
              "    <tr>\n",
              "      <th>2020-04-19</th>\n",
              "      <td>15712</td>\n",
              "      <td>5981.182035</td>\n",
              "    </tr>\n",
              "    <tr>\n",
              "      <th>2020-04-20</th>\n",
              "      <td>17265</td>\n",
              "      <td>5983.744314</td>\n",
              "    </tr>\n",
              "  </tbody>\n",
              "</table>\n",
              "</div>"
            ],
            "text/plain": [
              "            total_cases  predictedMA_3\n",
              "date                                  \n",
              "2020-04-10         6412    5780.000000\n",
              "2020-04-11         7447    5975.333333\n",
              "2020-04-12         8356    6055.777778\n",
              "2020-04-13         9152    5937.037037\n",
              "2020-04-14        10363    5989.382716\n",
              "2020-04-15        11438    5994.065844\n",
              "2020-04-16        12380    5973.495199\n",
              "2020-04-17        13387    5985.647920\n",
              "2020-04-18        14378    5984.402987\n",
              "2020-04-19        15712    5981.182035\n",
              "2020-04-20        17265    5983.744314"
            ]
          },
          "metadata": {
            "tags": []
          },
          "execution_count": 24
        }
      ]
    },
    {
      "cell_type": "code",
      "metadata": {
        "id": "rflpSojgHBrj",
        "colab_type": "code",
        "colab": {}
      },
      "source": [
        "mse_MA = mean_squared_error(test_india_total_cases['total_cases'],test_india_total_cases['predictedMA_3'])"
      ],
      "execution_count": 0,
      "outputs": []
    },
    {
      "cell_type": "code",
      "metadata": {
        "id": "XKDQ4UcyHQSB",
        "colab_type": "code",
        "colab": {}
      },
      "source": [
        "rmse = np.sqrt(mse_MA)"
      ],
      "execution_count": 0,
      "outputs": []
    },
    {
      "cell_type": "markdown",
      "metadata": {
        "id": "7orVFsJDX5rP",
        "colab_type": "text"
      },
      "source": [
        "### Moving average Mean squared error"
      ]
    },
    {
      "cell_type": "code",
      "metadata": {
        "id": "eWQ6eQWCHRIh",
        "colab_type": "code",
        "outputId": "759bc21a-53ad-42f8-ea70-025a9a98702e",
        "colab": {
          "base_uri": "https://localhost:8080/",
          "height": 35
        }
      },
      "source": [
        "rmse"
      ],
      "execution_count": 0,
      "outputs": [
        {
          "output_type": "execute_result",
          "data": {
            "text/plain": [
              "6432.789006752262"
            ]
          },
          "metadata": {
            "tags": []
          },
          "execution_count": 27
        }
      ]
    },
    {
      "cell_type": "markdown",
      "metadata": {
        "id": "-z9o0zPQ5XTU",
        "colab_type": "text"
      },
      "source": [
        "##Weighted Moving Average"
      ]
    },
    {
      "cell_type": "markdown",
      "metadata": {
        "id": "QMBqTa8J5zOC",
        "colab_type": "text"
      },
      "source": [
        "Basic workflow:\n",
        "1. we will start with same predicting for last ten days for calculating rmse.\n",
        "2. Here, we will use weighted Moving Average Model with previous 3 time data.\n",
        "\n",
        "so, weight will be \n",
        "```\n",
        "--> for x_t -> 1/2\n",
        "--> for x_t-1 -> 1/3\n",
        "--> for x_t-2 -> 1/6\n",
        "```"
      ]
    },
    {
      "cell_type": "code",
      "metadata": {
        "id": "yzZ9L_Me5r8k",
        "colab_type": "code",
        "colab": {}
      },
      "source": [
        "#function to find the weighted Moving Average Model\n",
        "\n",
        "def findWMA(n,arr):\n",
        "  fact = n*(n+1)/2\n",
        "  weight = np.array([i/fact for i in range(1,n+1)])\n",
        "\n",
        "  return np.sum(weight*np.array(arr))"
      ],
      "execution_count": 0,
      "outputs": []
    },
    {
      "cell_type": "code",
      "metadata": {
        "id": "qCfQu5uv8Sa1",
        "colab_type": "code",
        "colab": {}
      },
      "source": [
        "WMA_pred = [np.nan,np.nan]\n",
        "k=3 #number of previous time stamp"
      ],
      "execution_count": 0,
      "outputs": []
    },
    {
      "cell_type": "code",
      "metadata": {
        "id": "ew8wBjdL8SPq",
        "colab_type": "code",
        "colab": {}
      },
      "source": [
        "for i in range(0,len(train_india_total_cases['total_cases'])-2):\n",
        "  WMA_pred.append(findWMA(k,list(train_india_total_cases['total_cases'].iloc[i:i+k])))"
      ],
      "execution_count": 0,
      "outputs": []
    },
    {
      "cell_type": "code",
      "metadata": {
        "id": "jo6hiEGzBscG",
        "colab_type": "code",
        "colab": {}
      },
      "source": [
        "train_india_total_cases['WMA_pred'] = WMA_pred"
      ],
      "execution_count": 0,
      "outputs": []
    },
    {
      "cell_type": "code",
      "metadata": {
        "id": "kkO7-A7tBsYM",
        "colab_type": "code",
        "outputId": "a0d1aa04-29ae-4954-9713-a4b83b19e428",
        "colab": {
          "base_uri": "https://localhost:8080/",
          "height": 228
        }
      },
      "source": [
        "train_india_total_cases.tail()"
      ],
      "execution_count": 0,
      "outputs": [
        {
          "output_type": "execute_result",
          "data": {
            "text/html": [
              "<div>\n",
              "<style scoped>\n",
              "    .dataframe tbody tr th:only-of-type {\n",
              "        vertical-align: middle;\n",
              "    }\n",
              "\n",
              "    .dataframe tbody tr th {\n",
              "        vertical-align: top;\n",
              "    }\n",
              "\n",
              "    .dataframe thead th {\n",
              "        text-align: right;\n",
              "    }\n",
              "</style>\n",
              "<table border=\"1\" class=\"dataframe\">\n",
              "  <thead>\n",
              "    <tr style=\"text-align: right;\">\n",
              "      <th></th>\n",
              "      <th>total_cases</th>\n",
              "      <th>MA_3</th>\n",
              "      <th>WMA_pred</th>\n",
              "    </tr>\n",
              "    <tr>\n",
              "      <th>date</th>\n",
              "      <th></th>\n",
              "      <th></th>\n",
              "      <th></th>\n",
              "    </tr>\n",
              "  </thead>\n",
              "  <tbody>\n",
              "    <tr>\n",
              "      <th>2020-04-06</th>\n",
              "      <td>4067</td>\n",
              "      <td>3447.666667</td>\n",
              "      <td>3641.833333</td>\n",
              "    </tr>\n",
              "    <tr>\n",
              "      <th>2020-04-07</th>\n",
              "      <td>4421</td>\n",
              "      <td>3954.000000</td>\n",
              "      <td>4128.500000</td>\n",
              "    </tr>\n",
              "    <tr>\n",
              "      <th>2020-04-08</th>\n",
              "      <td>5194</td>\n",
              "      <td>4560.666667</td>\n",
              "      <td>4748.500000</td>\n",
              "    </tr>\n",
              "    <tr>\n",
              "      <th>2020-04-09</th>\n",
              "      <td>5734</td>\n",
              "      <td>5116.333333</td>\n",
              "      <td>5335.166667</td>\n",
              "    </tr>\n",
              "    <tr>\n",
              "      <th>2020-04-10</th>\n",
              "      <td>6412</td>\n",
              "      <td>5780.000000</td>\n",
              "      <td>5983.000000</td>\n",
              "    </tr>\n",
              "  </tbody>\n",
              "</table>\n",
              "</div>"
            ],
            "text/plain": [
              "            total_cases         MA_3     WMA_pred\n",
              "date                                             \n",
              "2020-04-06         4067  3447.666667  3641.833333\n",
              "2020-04-07         4421  3954.000000  4128.500000\n",
              "2020-04-08         5194  4560.666667  4748.500000\n",
              "2020-04-09         5734  5116.333333  5335.166667\n",
              "2020-04-10         6412  5780.000000  5983.000000"
            ]
          },
          "metadata": {
            "tags": []
          },
          "execution_count": 32
        }
      ]
    },
    {
      "cell_type": "code",
      "metadata": {
        "id": "-G5UHh2EVODm",
        "colab_type": "code",
        "outputId": "774740ba-0209-4b8c-8d10-824c7ea82c11",
        "colab": {
          "base_uri": "https://localhost:8080/",
          "height": 415
        }
      },
      "source": [
        "train_india_total_cases[['total_cases','MA_3','WMA_pred']].plot(legend = True,figsize=(15,8))"
      ],
      "execution_count": 0,
      "outputs": [
        {
          "output_type": "execute_result",
          "data": {
            "text/plain": [
              "<matplotlib.axes._subplots.AxesSubplot at 0x7f3cd7acfe80>"
            ]
          },
          "metadata": {
            "tags": []
          },
          "execution_count": 33
        },
        {
          "output_type": "display_data",
          "data": {
            "image/png": "[encoded data removed]",
            "text/plain": [
              "<Figure size 1080x576 with 1 Axes>"
            ]
          },
          "metadata": {
            "tags": []
          }
        }
      ]
    },
    {
      "cell_type": "markdown",
      "metadata": {
        "id": "ZYocemZUCYrE",
        "colab_type": "text"
      },
      "source": [
        "find it for test set to find rmse\n"
      ]
    },
    {
      "cell_type": "code",
      "metadata": {
        "id": "36_uN1o9B-yi",
        "colab_type": "code",
        "outputId": "9252ebc4-7361-4326-9412-9ca85fd7ab4f",
        "colab": {
          "base_uri": "https://localhost:8080/",
          "height": 35
        }
      },
      "source": [
        "y_hat = list(train_india_total_cases['total_cases'].iloc[-k:])\n",
        "print(y_hat)\n",
        "for i in range(0,11):\n",
        "  y_hat.append(findWMA(k,np.array(y_hat[i:i+k])))\n",
        "  "
      ],
      "execution_count": 0,
      "outputs": [
        {
          "output_type": "stream",
          "text": [
            "[5194, 5734, 6412]\n"
          ],
          "name": "stdout"
        }
      ]
    },
    {
      "cell_type": "code",
      "metadata": {
        "id": "iqo06DL_Tbws",
        "colab_type": "code",
        "outputId": "dc775be5-5446-41e9-b526-d91888d2d100",
        "colab": {
          "base_uri": "https://localhost:8080/",
          "height": 272
        }
      },
      "source": [
        "y_hat"
      ],
      "execution_count": 0,
      "outputs": [
        {
          "output_type": "execute_result",
          "data": {
            "text/plain": [
              "[5194,\n",
              " 5734,\n",
              " 6412,\n",
              " 5983.0,\n",
              " 6084.5,\n",
              " 6105.25,\n",
              " 6077.958333333333,\n",
              " 6088.145833333333,\n",
              " 6087.600694444443,\n",
              " 6086.175347222222,\n",
              " 6086.978877314814,\n",
              " 6086.814670138888,\n",
              " 6086.762852044752,\n",
              " 6086.816128954474]"
            ]
          },
          "metadata": {
            "tags": []
          },
          "execution_count": 35
        }
      ]
    },
    {
      "cell_type": "code",
      "metadata": {
        "id": "SPSHxi80DOwj",
        "colab_type": "code",
        "outputId": "a0a931fe-f51e-4008-a10f-2c0535f58e98",
        "colab": {
          "base_uri": "https://localhost:8080/",
          "height": 35
        }
      },
      "source": [
        "len(y_hat)"
      ],
      "execution_count": 0,
      "outputs": [
        {
          "output_type": "execute_result",
          "data": {
            "text/plain": [
              "14"
            ]
          },
          "metadata": {
            "tags": []
          },
          "execution_count": 36
        }
      ]
    },
    {
      "cell_type": "code",
      "metadata": {
        "id": "ckPI0N-8B-tk",
        "colab_type": "code",
        "colab": {}
      },
      "source": [
        "test_india_total_cases['WMA_3'] = y_hat[3:]"
      ],
      "execution_count": 0,
      "outputs": []
    },
    {
      "cell_type": "code",
      "metadata": {
        "id": "3naDhwfDUlsl",
        "colab_type": "code",
        "colab": {}
      },
      "source": [
        "wma_mse = mean_squared_error(test_india_total_cases['total_cases'],test_india_total_cases['WMA_3'])"
      ],
      "execution_count": 0,
      "outputs": []
    },
    {
      "cell_type": "code",
      "metadata": {
        "id": "v2SOUTvvUlm9",
        "colab_type": "code",
        "colab": {}
      },
      "source": [
        "wma_rmse = np.sqrt(wma_mse)"
      ],
      "execution_count": 0,
      "outputs": []
    },
    {
      "cell_type": "markdown",
      "metadata": {
        "id": "98ZNDhAgYPjn",
        "colab_type": "text"
      },
      "source": [
        "###Weighted Moving Average RMSE"
      ]
    },
    {
      "cell_type": "code",
      "metadata": {
        "id": "GWz4lmB9U-1W",
        "colab_type": "code",
        "outputId": "66d1ec53-2163-4f2b-a655-e8e6f140c16b",
        "colab": {
          "base_uri": "https://localhost:8080/",
          "height": 35
        }
      },
      "source": [
        "wma_rmse"
      ],
      "execution_count": 0,
      "outputs": [
        {
          "output_type": "execute_result",
          "data": {
            "text/plain": [
              "6343.933981593662"
            ]
          },
          "metadata": {
            "tags": []
          },
          "execution_count": 40
        }
      ]
    },
    {
      "cell_type": "markdown",
      "metadata": {
        "id": "ycSoolFHRYi_",
        "colab_type": "text"
      },
      "source": [
        "## Exponential Weighted Moving Average"
      ]
    },
    {
      "cell_type": "markdown",
      "metadata": {
        "id": "FPg0a9oF5pNa",
        "colab_type": "text"
      },
      "source": [
        "###Simple Exponential Smoothing"
      ]
    },
    {
      "cell_type": "code",
      "metadata": {
        "id": "OSK4IsQDHdhv",
        "colab_type": "code",
        "colab": {}
      },
      "source": [
        "train_india_total_cases['EWMA_3'] = train_india_total_cases['total_cases'].ewm(span=2,adjust=False).mean()"
      ],
      "execution_count": 0,
      "outputs": []
    },
    {
      "cell_type": "code",
      "metadata": {
        "id": "Arlc0PRwS6h1",
        "colab_type": "code",
        "outputId": "e41ae4df-40a8-4b27-92a5-61ad01161d42",
        "colab": {
          "base_uri": "https://localhost:8080/",
          "height": 228
        }
      },
      "source": [
        "train_india_total_cases.tail()"
      ],
      "execution_count": 0,
      "outputs": [
        {
          "output_type": "execute_result",
          "data": {
            "text/html": [
              "<div>\n",
              "<style scoped>\n",
              "    .dataframe tbody tr th:only-of-type {\n",
              "        vertical-align: middle;\n",
              "    }\n",
              "\n",
              "    .dataframe tbody tr th {\n",
              "        vertical-align: top;\n",
              "    }\n",
              "\n",
              "    .dataframe thead th {\n",
              "        text-align: right;\n",
              "    }\n",
              "</style>\n",
              "<table border=\"1\" class=\"dataframe\">\n",
              "  <thead>\n",
              "    <tr style=\"text-align: right;\">\n",
              "      <th></th>\n",
              "      <th>total_cases</th>\n",
              "      <th>MA_3</th>\n",
              "      <th>WMA_pred</th>\n",
              "      <th>EWMA_3</th>\n",
              "    </tr>\n",
              "    <tr>\n",
              "      <th>date</th>\n",
              "      <th></th>\n",
              "      <th></th>\n",
              "      <th></th>\n",
              "      <th></th>\n",
              "    </tr>\n",
              "  </thead>\n",
              "  <tbody>\n",
              "    <tr>\n",
              "      <th>2020-04-06</th>\n",
              "      <td>4067</td>\n",
              "      <td>3447.666667</td>\n",
              "      <td>3641.833333</td>\n",
              "      <td>3754.505537</td>\n",
              "    </tr>\n",
              "    <tr>\n",
              "      <th>2020-04-07</th>\n",
              "      <td>4421</td>\n",
              "      <td>3954.000000</td>\n",
              "      <td>4128.500000</td>\n",
              "      <td>4198.835179</td>\n",
              "    </tr>\n",
              "    <tr>\n",
              "      <th>2020-04-08</th>\n",
              "      <td>5194</td>\n",
              "      <td>4560.666667</td>\n",
              "      <td>4748.500000</td>\n",
              "      <td>4862.278393</td>\n",
              "    </tr>\n",
              "    <tr>\n",
              "      <th>2020-04-09</th>\n",
              "      <td>5734</td>\n",
              "      <td>5116.333333</td>\n",
              "      <td>5335.166667</td>\n",
              "      <td>5443.426131</td>\n",
              "    </tr>\n",
              "    <tr>\n",
              "      <th>2020-04-10</th>\n",
              "      <td>6412</td>\n",
              "      <td>5780.000000</td>\n",
              "      <td>5983.000000</td>\n",
              "      <td>6089.142044</td>\n",
              "    </tr>\n",
              "  </tbody>\n",
              "</table>\n",
              "</div>"
            ],
            "text/plain": [
              "            total_cases         MA_3     WMA_pred       EWMA_3\n",
              "date                                                          \n",
              "2020-04-06         4067  3447.666667  3641.833333  3754.505537\n",
              "2020-04-07         4421  3954.000000  4128.500000  4198.835179\n",
              "2020-04-08         5194  4560.666667  4748.500000  4862.278393\n",
              "2020-04-09         5734  5116.333333  5335.166667  5443.426131\n",
              "2020-04-10         6412  5780.000000  5983.000000  6089.142044"
            ]
          },
          "metadata": {
            "tags": []
          },
          "execution_count": 42
        }
      ]
    },
    {
      "cell_type": "code",
      "metadata": {
        "id": "emEACp3yTQie",
        "colab_type": "code",
        "outputId": "5038d8fa-a2fe-4ceb-f501-fb2b7be7a5a4",
        "colab": {
          "base_uri": "https://localhost:8080/",
          "height": 445
        }
      },
      "source": [
        "train_india_total_cases[['total_cases','MA_3','EWMA_3','WMA_pred']]['2020-03-20':].plot(legend=True,figsize=(15,8),lw=2.5)"
      ],
      "execution_count": 0,
      "outputs": [
        {
          "output_type": "execute_result",
          "data": {
            "text/plain": [
              "<matplotlib.axes._subplots.AxesSubplot at 0x7f3cd6201710>"
            ]
          },
          "metadata": {
            "tags": []
          },
          "execution_count": 43
        },
        {
          "output_type": "display_data",
          "data": {
            "image/png": "[encoded data removed]",
            "text/plain": [
              "<Figure size 1080x576 with 1 Axes>"
            ]
          },
          "metadata": {
            "tags": []
          }
        }
      ]
    },
    {
      "cell_type": "code",
      "metadata": {
        "id": "dr4x5evATcyz",
        "colab_type": "code",
        "colab": {}
      },
      "source": [
        "def find_wma_ahead(alpha,yt_1,xt):\n",
        "  return (1-alpha)*yt_1+alpha*xt"
      ],
      "execution_count": 0,
      "outputs": []
    },
    {
      "cell_type": "code",
      "metadata": {
        "id": "NiSjzVGoXoWv",
        "colab_type": "code",
        "colab": {}
      },
      "source": [
        "y_hat = [train_india_total_cases['EWMA_3'].iloc[-1]]\n",
        "\n",
        "for i in range(0,11):\n",
        "  y_hat.append(find_wma_ahead(2/3,y_hat[-1],test_india_total_cases['total_cases'].iloc[i]))"
      ],
      "execution_count": 0,
      "outputs": []
    },
    {
      "cell_type": "code",
      "metadata": {
        "id": "7mInVbu8Yubq",
        "colab_type": "code",
        "outputId": "454a8726-7bbe-4277-9166-5c232d746870",
        "colab": {
          "base_uri": "https://localhost:8080/",
          "height": 54
        }
      },
      "source": [
        "print(len(y_hat[1:]))\n",
        "print(len(test_india_total_cases['total_cases']))"
      ],
      "execution_count": 0,
      "outputs": [
        {
          "output_type": "stream",
          "text": [
            "11\n",
            "11\n"
          ],
          "name": "stdout"
        }
      ]
    },
    {
      "cell_type": "code",
      "metadata": {
        "id": "QCcTXo5iYv1k",
        "colab_type": "code",
        "colab": {}
      },
      "source": [
        "test_india_total_cases['EWMA_3'] = y_hat[1:]"
      ],
      "execution_count": 0,
      "outputs": []
    },
    {
      "cell_type": "code",
      "metadata": {
        "id": "fNHiH7P3Zksi",
        "colab_type": "code",
        "outputId": "e6659971-2aa3-4431-a93e-02c8be898771",
        "colab": {
          "base_uri": "https://localhost:8080/",
          "height": 408
        }
      },
      "source": [
        "test_india_total_cases"
      ],
      "execution_count": 0,
      "outputs": [
        {
          "output_type": "execute_result",
          "data": {
            "text/html": [
              "<div>\n",
              "<style scoped>\n",
              "    .dataframe tbody tr th:only-of-type {\n",
              "        vertical-align: middle;\n",
              "    }\n",
              "\n",
              "    .dataframe tbody tr th {\n",
              "        vertical-align: top;\n",
              "    }\n",
              "\n",
              "    .dataframe thead th {\n",
              "        text-align: right;\n",
              "    }\n",
              "</style>\n",
              "<table border=\"1\" class=\"dataframe\">\n",
              "  <thead>\n",
              "    <tr style=\"text-align: right;\">\n",
              "      <th></th>\n",
              "      <th>total_cases</th>\n",
              "      <th>predictedMA_3</th>\n",
              "      <th>WMA_3</th>\n",
              "      <th>EWMA_3</th>\n",
              "    </tr>\n",
              "    <tr>\n",
              "      <th>date</th>\n",
              "      <th></th>\n",
              "      <th></th>\n",
              "      <th></th>\n",
              "      <th></th>\n",
              "    </tr>\n",
              "  </thead>\n",
              "  <tbody>\n",
              "    <tr>\n",
              "      <th>2020-04-10</th>\n",
              "      <td>6412</td>\n",
              "      <td>5780.000000</td>\n",
              "      <td>5983.000000</td>\n",
              "      <td>6304.380681</td>\n",
              "    </tr>\n",
              "    <tr>\n",
              "      <th>2020-04-11</th>\n",
              "      <td>7447</td>\n",
              "      <td>5975.333333</td>\n",
              "      <td>6084.500000</td>\n",
              "      <td>7066.126894</td>\n",
              "    </tr>\n",
              "    <tr>\n",
              "      <th>2020-04-12</th>\n",
              "      <td>8356</td>\n",
              "      <td>6055.777778</td>\n",
              "      <td>6105.250000</td>\n",
              "      <td>7926.042298</td>\n",
              "    </tr>\n",
              "    <tr>\n",
              "      <th>2020-04-13</th>\n",
              "      <td>9152</td>\n",
              "      <td>5937.037037</td>\n",
              "      <td>6077.958333</td>\n",
              "      <td>8743.347433</td>\n",
              "    </tr>\n",
              "    <tr>\n",
              "      <th>2020-04-14</th>\n",
              "      <td>10363</td>\n",
              "      <td>5989.382716</td>\n",
              "      <td>6088.145833</td>\n",
              "      <td>9823.115811</td>\n",
              "    </tr>\n",
              "    <tr>\n",
              "      <th>2020-04-15</th>\n",
              "      <td>11438</td>\n",
              "      <td>5994.065844</td>\n",
              "      <td>6087.600694</td>\n",
              "      <td>10899.705270</td>\n",
              "    </tr>\n",
              "    <tr>\n",
              "      <th>2020-04-16</th>\n",
              "      <td>12380</td>\n",
              "      <td>5973.495199</td>\n",
              "      <td>6086.175347</td>\n",
              "      <td>11886.568423</td>\n",
              "    </tr>\n",
              "    <tr>\n",
              "      <th>2020-04-17</th>\n",
              "      <td>13387</td>\n",
              "      <td>5985.647920</td>\n",
              "      <td>6086.978877</td>\n",
              "      <td>12886.856141</td>\n",
              "    </tr>\n",
              "    <tr>\n",
              "      <th>2020-04-18</th>\n",
              "      <td>14378</td>\n",
              "      <td>5984.402987</td>\n",
              "      <td>6086.814670</td>\n",
              "      <td>13880.952047</td>\n",
              "    </tr>\n",
              "    <tr>\n",
              "      <th>2020-04-19</th>\n",
              "      <td>15712</td>\n",
              "      <td>5981.182035</td>\n",
              "      <td>6086.762852</td>\n",
              "      <td>15101.650682</td>\n",
              "    </tr>\n",
              "    <tr>\n",
              "      <th>2020-04-20</th>\n",
              "      <td>17265</td>\n",
              "      <td>5983.744314</td>\n",
              "      <td>6086.816129</td>\n",
              "      <td>16543.883561</td>\n",
              "    </tr>\n",
              "  </tbody>\n",
              "</table>\n",
              "</div>"
            ],
            "text/plain": [
              "            total_cases  predictedMA_3        WMA_3        EWMA_3\n",
              "date                                                             \n",
              "2020-04-10         6412    5780.000000  5983.000000   6304.380681\n",
              "2020-04-11         7447    5975.333333  6084.500000   7066.126894\n",
              "2020-04-12         8356    6055.777778  6105.250000   7926.042298\n",
              "2020-04-13         9152    5937.037037  6077.958333   8743.347433\n",
              "2020-04-14        10363    5989.382716  6088.145833   9823.115811\n",
              "2020-04-15        11438    5994.065844  6087.600694  10899.705270\n",
              "2020-04-16        12380    5973.495199  6086.175347  11886.568423\n",
              "2020-04-17        13387    5985.647920  6086.978877  12886.856141\n",
              "2020-04-18        14378    5984.402987  6086.814670  13880.952047\n",
              "2020-04-19        15712    5981.182035  6086.762852  15101.650682\n",
              "2020-04-20        17265    5983.744314  6086.816129  16543.883561"
            ]
          },
          "metadata": {
            "tags": []
          },
          "execution_count": 48
        }
      ]
    },
    {
      "cell_type": "code",
      "metadata": {
        "id": "j21nY48EZsNZ",
        "colab_type": "code",
        "colab": {}
      },
      "source": [
        "ewma_mse = mean_squared_error(test_india_total_cases['total_cases'],test_india_total_cases['EWMA_3'])"
      ],
      "execution_count": 0,
      "outputs": []
    },
    {
      "cell_type": "code",
      "metadata": {
        "id": "UhscR3P-Z4lV",
        "colab_type": "code",
        "outputId": "b2e9a1fa-b284-47b1-981c-12c9893f2732",
        "colab": {
          "base_uri": "https://localhost:8080/",
          "height": 35
        }
      },
      "source": [
        "ewma_mse"
      ],
      "execution_count": 0,
      "outputs": [
        {
          "output_type": "execute_result",
          "data": {
            "text/plain": [
              "247541.21974911343"
            ]
          },
          "metadata": {
            "tags": []
          },
          "execution_count": 50
        }
      ]
    },
    {
      "cell_type": "markdown",
      "metadata": {
        "id": "FYJC-3pDYZmN",
        "colab_type": "text"
      },
      "source": [
        "### Simple exponential Smoothing(with alpha 2/3) RMSE"
      ]
    },
    {
      "cell_type": "code",
      "metadata": {
        "id": "i_ipeU9OZ6A2",
        "colab_type": "code",
        "outputId": "b58dc84f-de6b-43ce-dc7e-c957651615e9",
        "colab": {
          "base_uri": "https://localhost:8080/",
          "height": 35
        }
      },
      "source": [
        "np.sqrt(ewma_mse)"
      ],
      "execution_count": 0,
      "outputs": [
        {
          "output_type": "execute_result",
          "data": {
            "text/plain": [
              "497.535144235172"
            ]
          },
          "metadata": {
            "tags": []
          },
          "execution_count": 51
        }
      ]
    },
    {
      "cell_type": "markdown",
      "metadata": {
        "id": "2AIqaKSuXCoA",
        "colab_type": "text"
      },
      "source": [
        "## Double Exponential Smoothing\n",
        "Where Simple Exponential Smoothing employs just one smoothing factor  α  (alpha), Double Exponential Smoothing adds a second smoothing factor  β (beta) that addresses trends in the data. Like the alpha factor, values for the beta factor fall between zero and one ( 0<β≤1 ). The benefit here is that the model can anticipate future increases or decreases where the level model would only work from recent calculations.\n",
        "\n",
        "We can also address different types of change (growth/decay) in the trend. If a time series displays a straight-line sloped trend, you would use an additive adjustment. If the time series displays an exponential (curved) trend, you would use a multiplicative adjustment."
      ]
    },
    {
      "cell_type": "markdown",
      "metadata": {
        "id": "Rx3Fjf-eXdx7",
        "colab_type": "text"
      },
      "source": [
        "### Additive adjustment"
      ]
    },
    {
      "cell_type": "code",
      "metadata": {
        "id": "1rIgAMbDZ8n3",
        "colab_type": "code",
        "outputId": "5bb0bdcf-5b3d-464c-efe2-bc69f20fcc09",
        "colab": {
          "base_uri": "https://localhost:8080/",
          "height": 321
        }
      },
      "source": [
        "from statsmodels.tsa.holtwinters import ExponentialSmoothing\n",
        "\n",
        "train_india_total_cases['DESadd2'] = ExponentialSmoothing(train_india_total_cases['total_cases'], trend='add').fit().fittedvalues\n",
        "train_india_total_cases.head()"
      ],
      "execution_count": 0,
      "outputs": [
        {
          "output_type": "stream",
          "text": [
            "/usr/local/lib/python3.6/dist-packages/statsmodels/tsa/base/tsa_model.py:219: ValueWarning: A date index has been provided, but it has no associated frequency information and so will be ignored when e.g. forecasting.\n",
            "  ' ignored when e.g. forecasting.', ValueWarning)\n",
            "/usr/local/lib/python3.6/dist-packages/statsmodels/tsa/holtwinters.py:712: ConvergenceWarning: Optimization failed to converge. Check mle_retvals.\n",
            "  ConvergenceWarning)\n"
          ],
          "name": "stderr"
        },
        {
          "output_type": "execute_result",
          "data": {
            "text/html": [
              "<div>\n",
              "<style scoped>\n",
              "    .dataframe tbody tr th:only-of-type {\n",
              "        vertical-align: middle;\n",
              "    }\n",
              "\n",
              "    .dataframe tbody tr th {\n",
              "        vertical-align: top;\n",
              "    }\n",
              "\n",
              "    .dataframe thead th {\n",
              "        text-align: right;\n",
              "    }\n",
              "</style>\n",
              "<table border=\"1\" class=\"dataframe\">\n",
              "  <thead>\n",
              "    <tr style=\"text-align: right;\">\n",
              "      <th></th>\n",
              "      <th>total_cases</th>\n",
              "      <th>MA_3</th>\n",
              "      <th>WMA_pred</th>\n",
              "      <th>EWMA_3</th>\n",
              "      <th>DESadd2</th>\n",
              "    </tr>\n",
              "    <tr>\n",
              "      <th>date</th>\n",
              "      <th></th>\n",
              "      <th></th>\n",
              "      <th></th>\n",
              "      <th></th>\n",
              "      <th></th>\n",
              "    </tr>\n",
              "  </thead>\n",
              "  <tbody>\n",
              "    <tr>\n",
              "      <th>2020-02-15</th>\n",
              "      <td>3</td>\n",
              "      <td>NaN</td>\n",
              "      <td>NaN</td>\n",
              "      <td>3.0</td>\n",
              "      <td>3.0</td>\n",
              "    </tr>\n",
              "    <tr>\n",
              "      <th>2020-02-16</th>\n",
              "      <td>3</td>\n",
              "      <td>NaN</td>\n",
              "      <td>NaN</td>\n",
              "      <td>3.0</td>\n",
              "      <td>3.0</td>\n",
              "    </tr>\n",
              "    <tr>\n",
              "      <th>2020-02-17</th>\n",
              "      <td>3</td>\n",
              "      <td>3.0</td>\n",
              "      <td>3.0</td>\n",
              "      <td>3.0</td>\n",
              "      <td>3.0</td>\n",
              "    </tr>\n",
              "    <tr>\n",
              "      <th>2020-02-18</th>\n",
              "      <td>3</td>\n",
              "      <td>3.0</td>\n",
              "      <td>3.0</td>\n",
              "      <td>3.0</td>\n",
              "      <td>3.0</td>\n",
              "    </tr>\n",
              "    <tr>\n",
              "      <th>2020-02-19</th>\n",
              "      <td>3</td>\n",
              "      <td>3.0</td>\n",
              "      <td>3.0</td>\n",
              "      <td>3.0</td>\n",
              "      <td>3.0</td>\n",
              "    </tr>\n",
              "  </tbody>\n",
              "</table>\n",
              "</div>"
            ],
            "text/plain": [
              "            total_cases  MA_3  WMA_pred  EWMA_3  DESadd2\n",
              "date                                                    \n",
              "2020-02-15            3   NaN       NaN     3.0      3.0\n",
              "2020-02-16            3   NaN       NaN     3.0      3.0\n",
              "2020-02-17            3   3.0       3.0     3.0      3.0\n",
              "2020-02-18            3   3.0       3.0     3.0      3.0\n",
              "2020-02-19            3   3.0       3.0     3.0      3.0"
            ]
          },
          "metadata": {
            "tags": []
          },
          "execution_count": 52
        }
      ]
    },
    {
      "cell_type": "code",
      "metadata": {
        "id": "9ptvyvXSX_D1",
        "colab_type": "code",
        "outputId": "ebc65cc0-0d46-4e14-9397-940363e29e5a",
        "colab": {
          "base_uri": "https://localhost:8080/",
          "height": 445
        }
      },
      "source": [
        "train_india_total_cases[['total_cases','EWMA_3','DESadd2']]['2020-03-20':].plot(legend=True,figsize=(15,8),lw=2.5)"
      ],
      "execution_count": 0,
      "outputs": [
        {
          "output_type": "execute_result",
          "data": {
            "text/plain": [
              "<matplotlib.axes._subplots.AxesSubplot at 0x7f3cd3344390>"
            ]
          },
          "metadata": {
            "tags": []
          },
          "execution_count": 53
        },
        {
          "output_type": "display_data",
          "data": {
            "image/png": "[encoded data removed]",
            "text/plain": [
              "<Figure size 1080x576 with 1 Axes>"
            ]
          },
          "metadata": {
            "tags": []
          }
        }
      ]
    },
    {
      "cell_type": "code",
      "metadata": {
        "id": "Y81yKyDcYPTQ",
        "colab_type": "code",
        "outputId": "65451963-5259-4231-fee7-7b4d21e84c9c",
        "colab": {
          "base_uri": "https://localhost:8080/",
          "height": 146
        }
      },
      "source": [
        "#forcasting for test data\n",
        "anc = ExponentialSmoothing(train_india_total_cases['total_cases'], trend='add').fit().forecast(11)"
      ],
      "execution_count": 0,
      "outputs": [
        {
          "output_type": "stream",
          "text": [
            "/usr/local/lib/python3.6/dist-packages/statsmodels/tsa/base/tsa_model.py:219: ValueWarning: A date index has been provided, but it has no associated frequency information and so will be ignored when e.g. forecasting.\n",
            "  ' ignored when e.g. forecasting.', ValueWarning)\n",
            "/usr/local/lib/python3.6/dist-packages/statsmodels/tsa/holtwinters.py:712: ConvergenceWarning: Optimization failed to converge. Check mle_retvals.\n",
            "  ConvergenceWarning)\n",
            "/usr/local/lib/python3.6/dist-packages/statsmodels/tsa/base/tsa_model.py:576: ValueWarning: No supported index is available. Prediction results will be given with an integer index beginning at `start`.\n",
            "  ValueWarning)\n"
          ],
          "name": "stderr"
        }
      ]
    },
    {
      "cell_type": "code",
      "metadata": {
        "id": "JzD1s_7bVbPz",
        "colab_type": "code",
        "outputId": "05dfbb27-dab0-4037-bc4d-615ef1b22626",
        "colab": {
          "base_uri": "https://localhost:8080/",
          "height": 55
        }
      },
      "source": [
        "anc_list = [i for i in anc]\n",
        "print(anc_list)"
      ],
      "execution_count": 0,
      "outputs": [
        {
          "output_type": "stream",
          "text": [
            "[7036.668994457818, 7679.026121832236, 8321.383249206652, 8963.74037658107, 9606.097503955487, 10248.454631329903, 10890.81175870432, 11533.168886078738, 12175.526013453156, 12817.883140827573, 13460.24026820199]\n"
          ],
          "name": "stdout"
        }
      ]
    },
    {
      "cell_type": "code",
      "metadata": {
        "id": "UsYQvgzBRdJM",
        "colab_type": "code",
        "colab": {}
      },
      "source": [
        "test_india_total_cases['DESadd2'] = anc_list"
      ],
      "execution_count": 0,
      "outputs": []
    },
    {
      "cell_type": "code",
      "metadata": {
        "id": "HHIvWYX8SXjj",
        "colab_type": "code",
        "outputId": "a06c5ed8-d8c9-4096-f27e-2d278c99b7bf",
        "colab": {
          "base_uri": "https://localhost:8080/",
          "height": 408
        }
      },
      "source": [
        "test_india_total_cases"
      ],
      "execution_count": 0,
      "outputs": [
        {
          "output_type": "execute_result",
          "data": {
            "text/html": [
              "<div>\n",
              "<style scoped>\n",
              "    .dataframe tbody tr th:only-of-type {\n",
              "        vertical-align: middle;\n",
              "    }\n",
              "\n",
              "    .dataframe tbody tr th {\n",
              "        vertical-align: top;\n",
              "    }\n",
              "\n",
              "    .dataframe thead th {\n",
              "        text-align: right;\n",
              "    }\n",
              "</style>\n",
              "<table border=\"1\" class=\"dataframe\">\n",
              "  <thead>\n",
              "    <tr style=\"text-align: right;\">\n",
              "      <th></th>\n",
              "      <th>total_cases</th>\n",
              "      <th>predictedMA_3</th>\n",
              "      <th>WMA_3</th>\n",
              "      <th>EWMA_3</th>\n",
              "      <th>DESadd2</th>\n",
              "    </tr>\n",
              "    <tr>\n",
              "      <th>date</th>\n",
              "      <th></th>\n",
              "      <th></th>\n",
              "      <th></th>\n",
              "      <th></th>\n",
              "      <th></th>\n",
              "    </tr>\n",
              "  </thead>\n",
              "  <tbody>\n",
              "    <tr>\n",
              "      <th>2020-04-10</th>\n",
              "      <td>6412</td>\n",
              "      <td>5780.000000</td>\n",
              "      <td>5983.000000</td>\n",
              "      <td>6304.380681</td>\n",
              "      <td>7036.668994</td>\n",
              "    </tr>\n",
              "    <tr>\n",
              "      <th>2020-04-11</th>\n",
              "      <td>7447</td>\n",
              "      <td>5975.333333</td>\n",
              "      <td>6084.500000</td>\n",
              "      <td>7066.126894</td>\n",
              "      <td>7679.026122</td>\n",
              "    </tr>\n",
              "    <tr>\n",
              "      <th>2020-04-12</th>\n",
              "      <td>8356</td>\n",
              "      <td>6055.777778</td>\n",
              "      <td>6105.250000</td>\n",
              "      <td>7926.042298</td>\n",
              "      <td>8321.383249</td>\n",
              "    </tr>\n",
              "    <tr>\n",
              "      <th>2020-04-13</th>\n",
              "      <td>9152</td>\n",
              "      <td>5937.037037</td>\n",
              "      <td>6077.958333</td>\n",
              "      <td>8743.347433</td>\n",
              "      <td>8963.740377</td>\n",
              "    </tr>\n",
              "    <tr>\n",
              "      <th>2020-04-14</th>\n",
              "      <td>10363</td>\n",
              "      <td>5989.382716</td>\n",
              "      <td>6088.145833</td>\n",
              "      <td>9823.115811</td>\n",
              "      <td>9606.097504</td>\n",
              "    </tr>\n",
              "    <tr>\n",
              "      <th>2020-04-15</th>\n",
              "      <td>11438</td>\n",
              "      <td>5994.065844</td>\n",
              "      <td>6087.600694</td>\n",
              "      <td>10899.705270</td>\n",
              "      <td>10248.454631</td>\n",
              "    </tr>\n",
              "    <tr>\n",
              "      <th>2020-04-16</th>\n",
              "      <td>12380</td>\n",
              "      <td>5973.495199</td>\n",
              "      <td>6086.175347</td>\n",
              "      <td>11886.568423</td>\n",
              "      <td>10890.811759</td>\n",
              "    </tr>\n",
              "    <tr>\n",
              "      <th>2020-04-17</th>\n",
              "      <td>13387</td>\n",
              "      <td>5985.647920</td>\n",
              "      <td>6086.978877</td>\n",
              "      <td>12886.856141</td>\n",
              "      <td>11533.168886</td>\n",
              "    </tr>\n",
              "    <tr>\n",
              "      <th>2020-04-18</th>\n",
              "      <td>14378</td>\n",
              "      <td>5984.402987</td>\n",
              "      <td>6086.814670</td>\n",
              "      <td>13880.952047</td>\n",
              "      <td>12175.526013</td>\n",
              "    </tr>\n",
              "    <tr>\n",
              "      <th>2020-04-19</th>\n",
              "      <td>15712</td>\n",
              "      <td>5981.182035</td>\n",
              "      <td>6086.762852</td>\n",
              "      <td>15101.650682</td>\n",
              "      <td>12817.883141</td>\n",
              "    </tr>\n",
              "    <tr>\n",
              "      <th>2020-04-20</th>\n",
              "      <td>17265</td>\n",
              "      <td>5983.744314</td>\n",
              "      <td>6086.816129</td>\n",
              "      <td>16543.883561</td>\n",
              "      <td>13460.240268</td>\n",
              "    </tr>\n",
              "  </tbody>\n",
              "</table>\n",
              "</div>"
            ],
            "text/plain": [
              "            total_cases  predictedMA_3        WMA_3        EWMA_3       DESadd2\n",
              "date                                                                           \n",
              "2020-04-10         6412    5780.000000  5983.000000   6304.380681   7036.668994\n",
              "2020-04-11         7447    5975.333333  6084.500000   7066.126894   7679.026122\n",
              "2020-04-12         8356    6055.777778  6105.250000   7926.042298   8321.383249\n",
              "2020-04-13         9152    5937.037037  6077.958333   8743.347433   8963.740377\n",
              "2020-04-14        10363    5989.382716  6088.145833   9823.115811   9606.097504\n",
              "2020-04-15        11438    5994.065844  6087.600694  10899.705270  10248.454631\n",
              "2020-04-16        12380    5973.495199  6086.175347  11886.568423  10890.811759\n",
              "2020-04-17        13387    5985.647920  6086.978877  12886.856141  11533.168886\n",
              "2020-04-18        14378    5984.402987  6086.814670  13880.952047  12175.526013\n",
              "2020-04-19        15712    5981.182035  6086.762852  15101.650682  12817.883141\n",
              "2020-04-20        17265    5983.744314  6086.816129  16543.883561  13460.240268"
            ]
          },
          "metadata": {
            "tags": []
          },
          "execution_count": 111
        }
      ]
    },
    {
      "cell_type": "code",
      "metadata": {
        "id": "_OF88886V4pn",
        "colab_type": "code",
        "colab": {}
      },
      "source": [
        "DESadd_mse = mean_squared_error(test_india_total_cases['total_cases'],test_india_total_cases['DESadd2'])"
      ],
      "execution_count": 0,
      "outputs": []
    },
    {
      "cell_type": "code",
      "metadata": {
        "id": "wEzuirYbV4lL",
        "colab_type": "code",
        "colab": {}
      },
      "source": [
        "DESadd_rmse = np.sqrt(DESadd_mse)"
      ],
      "execution_count": 0,
      "outputs": []
    },
    {
      "cell_type": "markdown",
      "metadata": {
        "id": "6GUSc1R1Yxb3",
        "colab_type": "text"
      },
      "source": [
        "### Double Exponential Smoothing(Additive smoothing) RMSE"
      ]
    },
    {
      "cell_type": "code",
      "metadata": {
        "id": "AgBYGUe1WOBK",
        "colab_type": "code",
        "outputId": "223203f7-2900-4120-aed0-9333784548ac",
        "colab": {
          "base_uri": "https://localhost:8080/",
          "height": 35
        }
      },
      "source": [
        "DESadd_rmse"
      ],
      "execution_count": 0,
      "outputs": [
        {
          "output_type": "execute_result",
          "data": {
            "text/plain": [
              "1804.6903320707715"
            ]
          },
          "metadata": {
            "tags": []
          },
          "execution_count": 114
        }
      ]
    },
    {
      "cell_type": "markdown",
      "metadata": {
        "id": "Qer6hA--YWRa",
        "colab_type": "text"
      },
      "source": [
        "### multiplicative smoothing"
      ]
    },
    {
      "cell_type": "code",
      "metadata": {
        "id": "rYcTw9ojYcpC",
        "colab_type": "code",
        "outputId": "3072b8af-8e5d-4ebc-d8ea-fbd32085d4bc",
        "colab": {
          "base_uri": "https://localhost:8080/",
          "height": 321
        }
      },
      "source": [
        "train_india_total_cases['DESmult2'] = ExponentialSmoothing(train_india_total_cases['total_cases'], trend='mul',damped=False).fit().fittedvalues\n",
        "train_india_total_cases.head()"
      ],
      "execution_count": 0,
      "outputs": [
        {
          "output_type": "stream",
          "text": [
            "/usr/local/lib/python3.6/dist-packages/statsmodels/tsa/base/tsa_model.py:219: ValueWarning: A date index has been provided, but it has no associated frequency information and so will be ignored when e.g. forecasting.\n",
            "  ' ignored when e.g. forecasting.', ValueWarning)\n",
            "/usr/local/lib/python3.6/dist-packages/statsmodels/tsa/holtwinters.py:712: ConvergenceWarning: Optimization failed to converge. Check mle_retvals.\n",
            "  ConvergenceWarning)\n"
          ],
          "name": "stderr"
        },
        {
          "output_type": "execute_result",
          "data": {
            "text/html": [
              "<div>\n",
              "<style scoped>\n",
              "    .dataframe tbody tr th:only-of-type {\n",
              "        vertical-align: middle;\n",
              "    }\n",
              "\n",
              "    .dataframe tbody tr th {\n",
              "        vertical-align: top;\n",
              "    }\n",
              "\n",
              "    .dataframe thead th {\n",
              "        text-align: right;\n",
              "    }\n",
              "</style>\n",
              "<table border=\"1\" class=\"dataframe\">\n",
              "  <thead>\n",
              "    <tr style=\"text-align: right;\">\n",
              "      <th></th>\n",
              "      <th>total_cases</th>\n",
              "      <th>MA_3</th>\n",
              "      <th>WMA_pred</th>\n",
              "      <th>EWMA_3</th>\n",
              "      <th>DESadd2</th>\n",
              "      <th>DESmult2</th>\n",
              "    </tr>\n",
              "    <tr>\n",
              "      <th>date</th>\n",
              "      <th></th>\n",
              "      <th></th>\n",
              "      <th></th>\n",
              "      <th></th>\n",
              "      <th></th>\n",
              "      <th></th>\n",
              "    </tr>\n",
              "  </thead>\n",
              "  <tbody>\n",
              "    <tr>\n",
              "      <th>2020-02-15</th>\n",
              "      <td>3</td>\n",
              "      <td>NaN</td>\n",
              "      <td>NaN</td>\n",
              "      <td>3.0</td>\n",
              "      <td>3.0</td>\n",
              "      <td>3.0</td>\n",
              "    </tr>\n",
              "    <tr>\n",
              "      <th>2020-02-16</th>\n",
              "      <td>3</td>\n",
              "      <td>NaN</td>\n",
              "      <td>NaN</td>\n",
              "      <td>3.0</td>\n",
              "      <td>3.0</td>\n",
              "      <td>3.0</td>\n",
              "    </tr>\n",
              "    <tr>\n",
              "      <th>2020-02-17</th>\n",
              "      <td>3</td>\n",
              "      <td>3.0</td>\n",
              "      <td>3.0</td>\n",
              "      <td>3.0</td>\n",
              "      <td>3.0</td>\n",
              "      <td>3.0</td>\n",
              "    </tr>\n",
              "    <tr>\n",
              "      <th>2020-02-18</th>\n",
              "      <td>3</td>\n",
              "      <td>3.0</td>\n",
              "      <td>3.0</td>\n",
              "      <td>3.0</td>\n",
              "      <td>3.0</td>\n",
              "      <td>3.0</td>\n",
              "    </tr>\n",
              "    <tr>\n",
              "      <th>2020-02-19</th>\n",
              "      <td>3</td>\n",
              "      <td>3.0</td>\n",
              "      <td>3.0</td>\n",
              "      <td>3.0</td>\n",
              "      <td>3.0</td>\n",
              "      <td>3.0</td>\n",
              "    </tr>\n",
              "  </tbody>\n",
              "</table>\n",
              "</div>"
            ],
            "text/plain": [
              "            total_cases  MA_3  WMA_pred  EWMA_3  DESadd2  DESmult2\n",
              "date                                                              \n",
              "2020-02-15            3   NaN       NaN     3.0      3.0       3.0\n",
              "2020-02-16            3   NaN       NaN     3.0      3.0       3.0\n",
              "2020-02-17            3   3.0       3.0     3.0      3.0       3.0\n",
              "2020-02-18            3   3.0       3.0     3.0      3.0       3.0\n",
              "2020-02-19            3   3.0       3.0     3.0      3.0       3.0"
            ]
          },
          "metadata": {
            "tags": []
          },
          "execution_count": 140
        }
      ]
    },
    {
      "cell_type": "code",
      "metadata": {
        "id": "3EBe9nrGYmhK",
        "colab_type": "code",
        "outputId": "d7faacad-61fd-4f59-9416-2bf59b5995c6",
        "colab": {
          "base_uri": "https://localhost:8080/",
          "height": 228
        }
      },
      "source": [
        "train_india_total_cases.tail()"
      ],
      "execution_count": 0,
      "outputs": [
        {
          "output_type": "execute_result",
          "data": {
            "text/html": [
              "<div>\n",
              "<style scoped>\n",
              "    .dataframe tbody tr th:only-of-type {\n",
              "        vertical-align: middle;\n",
              "    }\n",
              "\n",
              "    .dataframe tbody tr th {\n",
              "        vertical-align: top;\n",
              "    }\n",
              "\n",
              "    .dataframe thead th {\n",
              "        text-align: right;\n",
              "    }\n",
              "</style>\n",
              "<table border=\"1\" class=\"dataframe\">\n",
              "  <thead>\n",
              "    <tr style=\"text-align: right;\">\n",
              "      <th></th>\n",
              "      <th>total_cases</th>\n",
              "      <th>MA_3</th>\n",
              "      <th>WMA_pred</th>\n",
              "      <th>EWMA_3</th>\n",
              "      <th>DESadd2</th>\n",
              "      <th>DESmult2</th>\n",
              "    </tr>\n",
              "    <tr>\n",
              "      <th>date</th>\n",
              "      <th></th>\n",
              "      <th></th>\n",
              "      <th></th>\n",
              "      <th></th>\n",
              "      <th></th>\n",
              "      <th></th>\n",
              "    </tr>\n",
              "  </thead>\n",
              "  <tbody>\n",
              "    <tr>\n",
              "      <th>2020-04-06</th>\n",
              "      <td>4067</td>\n",
              "      <td>3447.666667</td>\n",
              "      <td>3641.833333</td>\n",
              "      <td>3754.505537</td>\n",
              "      <td>3899.754976</td>\n",
              "      <td>4089.163752</td>\n",
              "    </tr>\n",
              "    <tr>\n",
              "      <th>2020-04-07</th>\n",
              "      <td>4421</td>\n",
              "      <td>3954.000000</td>\n",
              "      <td>4128.500000</td>\n",
              "      <td>4198.835179</td>\n",
              "      <td>4639.248282</td>\n",
              "      <td>4843.057666</td>\n",
              "    </tr>\n",
              "    <tr>\n",
              "      <th>2020-04-08</th>\n",
              "      <td>5194</td>\n",
              "      <td>4560.666667</td>\n",
              "      <td>4748.500000</td>\n",
              "      <td>4862.278393</td>\n",
              "      <td>4976.198977</td>\n",
              "      <td>5072.897114</td>\n",
              "    </tr>\n",
              "    <tr>\n",
              "      <th>2020-04-09</th>\n",
              "      <td>5734</td>\n",
              "      <td>5116.333333</td>\n",
              "      <td>5335.166667</td>\n",
              "      <td>5443.426131</td>\n",
              "      <td>5752.701239</td>\n",
              "      <td>5900.281420</td>\n",
              "    </tr>\n",
              "    <tr>\n",
              "      <th>2020-04-10</th>\n",
              "      <td>6412</td>\n",
              "      <td>5780.000000</td>\n",
              "      <td>5983.000000</td>\n",
              "      <td>6089.142044</td>\n",
              "      <td>6344.785095</td>\n",
              "      <td>6470.125585</td>\n",
              "    </tr>\n",
              "  </tbody>\n",
              "</table>\n",
              "</div>"
            ],
            "text/plain": [
              "            total_cases         MA_3  ...      DESadd2     DESmult2\n",
              "date                                  ...                          \n",
              "2020-04-06         4067  3447.666667  ...  3899.754976  4089.163752\n",
              "2020-04-07         4421  3954.000000  ...  4639.248282  4843.057666\n",
              "2020-04-08         5194  4560.666667  ...  4976.198977  5072.897114\n",
              "2020-04-09         5734  5116.333333  ...  5752.701239  5900.281420\n",
              "2020-04-10         6412  5780.000000  ...  6344.785095  6470.125585\n",
              "\n",
              "[5 rows x 6 columns]"
            ]
          },
          "metadata": {
            "tags": []
          },
          "execution_count": 141
        }
      ]
    },
    {
      "cell_type": "code",
      "metadata": {
        "id": "QaNZnyOgYx_j",
        "colab_type": "code",
        "outputId": "ac4d274c-3f8c-482a-99d4-afa92c0abeaa",
        "colab": {
          "base_uri": "https://localhost:8080/",
          "height": 445
        }
      },
      "source": [
        "train_india_total_cases[['total_cases','DESadd2','DESmult2']]['2020-03-20':].plot(legend=True,figsize=(15,8),lw=2.5)"
      ],
      "execution_count": 0,
      "outputs": [
        {
          "output_type": "execute_result",
          "data": {
            "text/plain": [
              "<matplotlib.axes._subplots.AxesSubplot at 0x7f3cd2f9e320>"
            ]
          },
          "metadata": {
            "tags": []
          },
          "execution_count": 142
        },
        {
          "output_type": "display_data",
          "data": {
            "image/png": "[encoded data removed]",
            "text/plain": [
              "<Figure size 1080x576 with 1 Axes>"
            ]
          },
          "metadata": {
            "tags": []
          }
        }
      ]
    },
    {
      "cell_type": "code",
      "metadata": {
        "id": "gGzEBMGCZknt",
        "colab_type": "code",
        "outputId": "c8e6d228-32de-4499-a640-d4013aa0412f",
        "colab": {
          "base_uri": "https://localhost:8080/",
          "height": 146
        }
      },
      "source": [
        "#forcast for test data\n",
        "anc = ExponentialSmoothing(train_india_total_cases['total_cases'], trend='mul',damped=False).fit(optimized=True).forecast(11)"
      ],
      "execution_count": 0,
      "outputs": [
        {
          "output_type": "stream",
          "text": [
            "/usr/local/lib/python3.6/dist-packages/statsmodels/tsa/base/tsa_model.py:219: ValueWarning: A date index has been provided, but it has no associated frequency information and so will be ignored when e.g. forecasting.\n",
            "  ' ignored when e.g. forecasting.', ValueWarning)\n",
            "/usr/local/lib/python3.6/dist-packages/statsmodels/tsa/holtwinters.py:712: ConvergenceWarning: Optimization failed to converge. Check mle_retvals.\n",
            "  ConvergenceWarning)\n",
            "/usr/local/lib/python3.6/dist-packages/statsmodels/tsa/base/tsa_model.py:576: ValueWarning: No supported index is available. Prediction results will be given with an integer index beginning at `start`.\n",
            "  ValueWarning)\n"
          ],
          "name": "stderr"
        }
      ]
    },
    {
      "cell_type": "code",
      "metadata": {
        "id": "t-G9BVbbWtin",
        "colab_type": "code",
        "outputId": "43376546-7e7b-4fbf-c8d8-4dab93bf71f7",
        "colab": {
          "base_uri": "https://localhost:8080/",
          "height": 55
        }
      },
      "source": [
        "anc_list = [i for i in anc]\n",
        "print(anc_list)"
      ],
      "execution_count": 0,
      "outputs": [
        {
          "output_type": "stream",
          "text": [
            "[7164.644863752723, 7990.3864538059415, 8911.296637210273, 9938.343810458673, 11083.760502646997, 12361.189069627071, 13785.844179741767, 15374.694026410001, 17146.66242587367, 19122.854207168828, 21326.806578802873]\n"
          ],
          "name": "stdout"
        }
      ]
    },
    {
      "cell_type": "code",
      "metadata": {
        "id": "VlCp5B7FW7Co",
        "colab_type": "code",
        "colab": {}
      },
      "source": [
        "test_india_total_cases['DESmult2'] = anc_list"
      ],
      "execution_count": 0,
      "outputs": []
    },
    {
      "cell_type": "code",
      "metadata": {
        "id": "OBvpcXEjW-KO",
        "colab_type": "code",
        "colab": {}
      },
      "source": [
        "des_mult_rmse = np.sqrt(mean_squared_error(test_india_total_cases['total_cases'],test_india_total_cases['DESmult2']))"
      ],
      "execution_count": 0,
      "outputs": []
    },
    {
      "cell_type": "markdown",
      "metadata": {
        "id": "e1hGitO0Y9nB",
        "colab_type": "text"
      },
      "source": [
        "### Double Exponential Smoothing (Multiplication Smoothing)"
      ]
    },
    {
      "cell_type": "code",
      "metadata": {
        "id": "eNkXdXcYXLb6",
        "colab_type": "code",
        "outputId": "abd94c70-8f6b-432a-ec67-c317c1853daf",
        "colab": {
          "base_uri": "https://localhost:8080/",
          "height": 35
        }
      },
      "source": [
        "des_mult_rmse"
      ],
      "execution_count": 0,
      "outputs": [
        {
          "output_type": "execute_result",
          "data": {
            "text/plain": [
              "2020.0185410504569"
            ]
          },
          "metadata": {
            "tags": []
          },
          "execution_count": 147
        }
      ]
    },
    {
      "cell_type": "code",
      "metadata": {
        "id": "Zw1IFRxmXM21",
        "colab_type": "code",
        "outputId": "33e7d8ba-801b-4e9e-e8dc-32c621bc84ed",
        "colab": {
          "base_uri": "https://localhost:8080/",
          "height": 618
        }
      },
      "source": [
        "test_india_total_cases"
      ],
      "execution_count": 0,
      "outputs": [
        {
          "output_type": "execute_result",
          "data": {
            "text/html": [
              "<div>\n",
              "<style scoped>\n",
              "    .dataframe tbody tr th:only-of-type {\n",
              "        vertical-align: middle;\n",
              "    }\n",
              "\n",
              "    .dataframe tbody tr th {\n",
              "        vertical-align: top;\n",
              "    }\n",
              "\n",
              "    .dataframe thead th {\n",
              "        text-align: right;\n",
              "    }\n",
              "</style>\n",
              "<table border=\"1\" class=\"dataframe\">\n",
              "  <thead>\n",
              "    <tr style=\"text-align: right;\">\n",
              "      <th></th>\n",
              "      <th>total_cases</th>\n",
              "      <th>predictedMA_3</th>\n",
              "      <th>WMA_3</th>\n",
              "      <th>EWMA_3</th>\n",
              "      <th>DESadd2</th>\n",
              "      <th>DESmult</th>\n",
              "      <th>DESmult2</th>\n",
              "    </tr>\n",
              "    <tr>\n",
              "      <th>date</th>\n",
              "      <th></th>\n",
              "      <th></th>\n",
              "      <th></th>\n",
              "      <th></th>\n",
              "      <th></th>\n",
              "      <th></th>\n",
              "      <th></th>\n",
              "    </tr>\n",
              "  </thead>\n",
              "  <tbody>\n",
              "    <tr>\n",
              "      <th>2020-04-10</th>\n",
              "      <td>6412</td>\n",
              "      <td>5780.000000</td>\n",
              "      <td>5983.000000</td>\n",
              "      <td>6304.380681</td>\n",
              "      <td>7036.668994</td>\n",
              "      <td>7164.644864</td>\n",
              "      <td>7164.644864</td>\n",
              "    </tr>\n",
              "    <tr>\n",
              "      <th>2020-04-11</th>\n",
              "      <td>7447</td>\n",
              "      <td>5975.333333</td>\n",
              "      <td>6084.500000</td>\n",
              "      <td>7066.126894</td>\n",
              "      <td>7679.026122</td>\n",
              "      <td>7990.386454</td>\n",
              "      <td>7990.386454</td>\n",
              "    </tr>\n",
              "    <tr>\n",
              "      <th>2020-04-12</th>\n",
              "      <td>8356</td>\n",
              "      <td>6055.777778</td>\n",
              "      <td>6105.250000</td>\n",
              "      <td>7926.042298</td>\n",
              "      <td>8321.383249</td>\n",
              "      <td>8911.296637</td>\n",
              "      <td>8911.296637</td>\n",
              "    </tr>\n",
              "    <tr>\n",
              "      <th>2020-04-13</th>\n",
              "      <td>9152</td>\n",
              "      <td>5937.037037</td>\n",
              "      <td>6077.958333</td>\n",
              "      <td>8743.347433</td>\n",
              "      <td>8963.740377</td>\n",
              "      <td>9938.343810</td>\n",
              "      <td>9938.343810</td>\n",
              "    </tr>\n",
              "    <tr>\n",
              "      <th>2020-04-14</th>\n",
              "      <td>10363</td>\n",
              "      <td>5989.382716</td>\n",
              "      <td>6088.145833</td>\n",
              "      <td>9823.115811</td>\n",
              "      <td>9606.097504</td>\n",
              "      <td>11083.760503</td>\n",
              "      <td>11083.760503</td>\n",
              "    </tr>\n",
              "    <tr>\n",
              "      <th>2020-04-15</th>\n",
              "      <td>11438</td>\n",
              "      <td>5994.065844</td>\n",
              "      <td>6087.600694</td>\n",
              "      <td>10899.705270</td>\n",
              "      <td>10248.454631</td>\n",
              "      <td>12361.189070</td>\n",
              "      <td>12361.189070</td>\n",
              "    </tr>\n",
              "    <tr>\n",
              "      <th>2020-04-16</th>\n",
              "      <td>12380</td>\n",
              "      <td>5973.495199</td>\n",
              "      <td>6086.175347</td>\n",
              "      <td>11886.568423</td>\n",
              "      <td>10890.811759</td>\n",
              "      <td>13785.844180</td>\n",
              "      <td>13785.844180</td>\n",
              "    </tr>\n",
              "    <tr>\n",
              "      <th>2020-04-17</th>\n",
              "      <td>13387</td>\n",
              "      <td>5985.647920</td>\n",
              "      <td>6086.978877</td>\n",
              "      <td>12886.856141</td>\n",
              "      <td>11533.168886</td>\n",
              "      <td>15374.694026</td>\n",
              "      <td>15374.694026</td>\n",
              "    </tr>\n",
              "    <tr>\n",
              "      <th>2020-04-18</th>\n",
              "      <td>14378</td>\n",
              "      <td>5984.402987</td>\n",
              "      <td>6086.814670</td>\n",
              "      <td>13880.952047</td>\n",
              "      <td>12175.526013</td>\n",
              "      <td>17146.662426</td>\n",
              "      <td>17146.662426</td>\n",
              "    </tr>\n",
              "    <tr>\n",
              "      <th>2020-04-19</th>\n",
              "      <td>15712</td>\n",
              "      <td>5981.182035</td>\n",
              "      <td>6086.762852</td>\n",
              "      <td>15101.650682</td>\n",
              "      <td>12817.883141</td>\n",
              "      <td>19122.854207</td>\n",
              "      <td>19122.854207</td>\n",
              "    </tr>\n",
              "    <tr>\n",
              "      <th>2020-04-20</th>\n",
              "      <td>17265</td>\n",
              "      <td>5983.744314</td>\n",
              "      <td>6086.816129</td>\n",
              "      <td>16543.883561</td>\n",
              "      <td>13460.240268</td>\n",
              "      <td>21326.806579</td>\n",
              "      <td>21326.806579</td>\n",
              "    </tr>\n",
              "  </tbody>\n",
              "</table>\n",
              "</div>"
            ],
            "text/plain": [
              "            total_cases  predictedMA_3  ...       DESmult      DESmult2\n",
              "date                                    ...                            \n",
              "2020-04-10         6412    5780.000000  ...   7164.644864   7164.644864\n",
              "2020-04-11         7447    5975.333333  ...   7990.386454   7990.386454\n",
              "2020-04-12         8356    6055.777778  ...   8911.296637   8911.296637\n",
              "2020-04-13         9152    5937.037037  ...   9938.343810   9938.343810\n",
              "2020-04-14        10363    5989.382716  ...  11083.760503  11083.760503\n",
              "2020-04-15        11438    5994.065844  ...  12361.189070  12361.189070\n",
              "2020-04-16        12380    5973.495199  ...  13785.844180  13785.844180\n",
              "2020-04-17        13387    5985.647920  ...  15374.694026  15374.694026\n",
              "2020-04-18        14378    5984.402987  ...  17146.662426  17146.662426\n",
              "2020-04-19        15712    5981.182035  ...  19122.854207  19122.854207\n",
              "2020-04-20        17265    5983.744314  ...  21326.806579  21326.806579\n",
              "\n",
              "[11 rows x 7 columns]"
            ]
          },
          "metadata": {
            "tags": []
          },
          "execution_count": 148
        }
      ]
    },
    {
      "cell_type": "markdown",
      "metadata": {
        "id": "m2J9JkQder88",
        "colab_type": "text"
      },
      "source": [
        "## Triple exponential Smoothing (Holt-Winters-Methods)\n",
        "\n",
        "\n",
        "\n"
      ]
    },
    {
      "cell_type": "code",
      "metadata": {
        "id": "AH0VKRxseuu9",
        "colab_type": "code",
        "outputId": "7552fc85-acc5-46f6-c2ec-dfd4cdc14018",
        "colab": {
          "base_uri": "https://localhost:8080/",
          "height": 110
        }
      },
      "source": [
        "train_india_total_cases['TES_add7'] = ExponentialSmoothing(train_india_total_cases['total_cases'],trend='add',seasonal='add',seasonal_periods=7).fit(optimized=True).fittedvalues"
      ],
      "execution_count": 0,
      "outputs": [
        {
          "output_type": "stream",
          "text": [
            "/usr/local/lib/python3.6/dist-packages/statsmodels/tsa/base/tsa_model.py:219: ValueWarning: A date index has been provided, but it has no associated frequency information and so will be ignored when e.g. forecasting.\n",
            "  ' ignored when e.g. forecasting.', ValueWarning)\n",
            "/usr/local/lib/python3.6/dist-packages/statsmodels/tsa/holtwinters.py:712: ConvergenceWarning: Optimization failed to converge. Check mle_retvals.\n",
            "  ConvergenceWarning)\n"
          ],
          "name": "stderr"
        }
      ]
    },
    {
      "cell_type": "code",
      "metadata": {
        "id": "gTjRc-Ujfjqk",
        "colab_type": "code",
        "outputId": "38d5bd94-ce53-4ae7-93aa-4163b8fd5ae8",
        "colab": {
          "base_uri": "https://localhost:8080/",
          "height": 571
        }
      },
      "source": [
        "train_india_total_cases.tail(10)"
      ],
      "execution_count": 0,
      "outputs": [
        {
          "output_type": "execute_result",
          "data": {
            "text/html": [
              "<div>\n",
              "<style scoped>\n",
              "    .dataframe tbody tr th:only-of-type {\n",
              "        vertical-align: middle;\n",
              "    }\n",
              "\n",
              "    .dataframe tbody tr th {\n",
              "        vertical-align: top;\n",
              "    }\n",
              "\n",
              "    .dataframe thead th {\n",
              "        text-align: right;\n",
              "    }\n",
              "</style>\n",
              "<table border=\"1\" class=\"dataframe\">\n",
              "  <thead>\n",
              "    <tr style=\"text-align: right;\">\n",
              "      <th></th>\n",
              "      <th>total_cases</th>\n",
              "      <th>MA_3</th>\n",
              "      <th>WMA_pred</th>\n",
              "      <th>EWMA_3</th>\n",
              "      <th>DESadd2</th>\n",
              "      <th>DESmult2</th>\n",
              "      <th>TES_add7</th>\n",
              "    </tr>\n",
              "    <tr>\n",
              "      <th>date</th>\n",
              "      <th></th>\n",
              "      <th></th>\n",
              "      <th></th>\n",
              "      <th></th>\n",
              "      <th></th>\n",
              "      <th></th>\n",
              "      <th></th>\n",
              "    </tr>\n",
              "  </thead>\n",
              "  <tbody>\n",
              "    <tr>\n",
              "      <th>2020-04-01</th>\n",
              "      <td>1397</td>\n",
              "      <td>1239.666667</td>\n",
              "      <td>1294.000000</td>\n",
              "      <td>1322.845476</td>\n",
              "      <td>1376.089032</td>\n",
              "      <td>1412.246825</td>\n",
              "      <td>1376.089032</td>\n",
              "    </tr>\n",
              "    <tr>\n",
              "      <th>2020-04-02</th>\n",
              "      <td>1965</td>\n",
              "      <td>1537.666667</td>\n",
              "      <td>1656.666667</td>\n",
              "      <td>1750.948492</td>\n",
              "      <td>1545.445245</td>\n",
              "      <td>1582.497657</td>\n",
              "      <td>1545.445245</td>\n",
              "    </tr>\n",
              "    <tr>\n",
              "      <th>2020-04-03</th>\n",
              "      <td>2301</td>\n",
              "      <td>1887.666667</td>\n",
              "      <td>2038.333333</td>\n",
              "      <td>2117.649497</td>\n",
              "      <td>2236.330487</td>\n",
              "      <td>2450.658430</td>\n",
              "      <td>2236.330487</td>\n",
              "    </tr>\n",
              "    <tr>\n",
              "      <th>2020-04-04</th>\n",
              "      <td>2902</td>\n",
              "      <td>2389.333333</td>\n",
              "      <td>2545.500000</td>\n",
              "      <td>2640.549832</td>\n",
              "      <td>2700.832765</td>\n",
              "      <td>2917.848784</td>\n",
              "      <td>2700.832765</td>\n",
              "    </tr>\n",
              "    <tr>\n",
              "      <th>2020-04-05</th>\n",
              "      <td>3374</td>\n",
              "      <td>2859.000000</td>\n",
              "      <td>3037.833333</td>\n",
              "      <td>3129.516611</td>\n",
              "      <td>3375.133304</td>\n",
              "      <td>3622.125732</td>\n",
              "      <td>3375.133304</td>\n",
              "    </tr>\n",
              "    <tr>\n",
              "      <th>2020-04-06</th>\n",
              "      <td>4067</td>\n",
              "      <td>3447.666667</td>\n",
              "      <td>3641.833333</td>\n",
              "      <td>3754.505537</td>\n",
              "      <td>3899.754976</td>\n",
              "      <td>4089.163752</td>\n",
              "      <td>3899.754976</td>\n",
              "    </tr>\n",
              "    <tr>\n",
              "      <th>2020-04-07</th>\n",
              "      <td>4421</td>\n",
              "      <td>3954.000000</td>\n",
              "      <td>4128.500000</td>\n",
              "      <td>4198.835179</td>\n",
              "      <td>4639.248282</td>\n",
              "      <td>4843.057666</td>\n",
              "      <td>4639.248282</td>\n",
              "    </tr>\n",
              "    <tr>\n",
              "      <th>2020-04-08</th>\n",
              "      <td>5194</td>\n",
              "      <td>4560.666667</td>\n",
              "      <td>4748.500000</td>\n",
              "      <td>4862.278393</td>\n",
              "      <td>4976.198977</td>\n",
              "      <td>5072.897114</td>\n",
              "      <td>4976.198977</td>\n",
              "    </tr>\n",
              "    <tr>\n",
              "      <th>2020-04-09</th>\n",
              "      <td>5734</td>\n",
              "      <td>5116.333333</td>\n",
              "      <td>5335.166667</td>\n",
              "      <td>5443.426131</td>\n",
              "      <td>5752.701239</td>\n",
              "      <td>5900.281420</td>\n",
              "      <td>5752.701239</td>\n",
              "    </tr>\n",
              "    <tr>\n",
              "      <th>2020-04-10</th>\n",
              "      <td>6412</td>\n",
              "      <td>5780.000000</td>\n",
              "      <td>5983.000000</td>\n",
              "      <td>6089.142044</td>\n",
              "      <td>6344.785095</td>\n",
              "      <td>6470.125585</td>\n",
              "      <td>6344.785095</td>\n",
              "    </tr>\n",
              "  </tbody>\n",
              "</table>\n",
              "</div>"
            ],
            "text/plain": [
              "            total_cases         MA_3  ...     DESmult2     TES_add7\n",
              "date                                  ...                          \n",
              "2020-04-01         1397  1239.666667  ...  1412.246825  1376.089032\n",
              "2020-04-02         1965  1537.666667  ...  1582.497657  1545.445245\n",
              "2020-04-03         2301  1887.666667  ...  2450.658430  2236.330487\n",
              "2020-04-04         2902  2389.333333  ...  2917.848784  2700.832765\n",
              "2020-04-05         3374  2859.000000  ...  3622.125732  3375.133304\n",
              "2020-04-06         4067  3447.666667  ...  4089.163752  3899.754976\n",
              "2020-04-07         4421  3954.000000  ...  4843.057666  4639.248282\n",
              "2020-04-08         5194  4560.666667  ...  5072.897114  4976.198977\n",
              "2020-04-09         5734  5116.333333  ...  5900.281420  5752.701239\n",
              "2020-04-10         6412  5780.000000  ...  6470.125585  6344.785095\n",
              "\n",
              "[10 rows x 7 columns]"
            ]
          },
          "metadata": {
            "tags": []
          },
          "execution_count": 154
        }
      ]
    },
    {
      "cell_type": "markdown",
      "metadata": {
        "id": "zNHiM_M0ZxCx",
        "colab_type": "text"
      },
      "source": [
        "Here I observed that Triple exponential Smoothing with additive smoothing gives same results as double exponential smoothing with additive smoothing. So, I will not take it forward for further analysis.\n",
        "\n",
        "Not let us see the Multiplicative smoothing"
      ]
    },
    {
      "cell_type": "markdown",
      "metadata": {
        "id": "UjbPVovdZrs4",
        "colab_type": "text"
      },
      "source": [
        "### Multiplicative Smoothing"
      ]
    },
    {
      "cell_type": "code",
      "metadata": {
        "id": "bteX3J7KfmNk",
        "colab_type": "code",
        "outputId": "cccd2de3-f8e7-4715-f9e5-5f52058adcd5",
        "colab": {
          "base_uri": "https://localhost:8080/",
          "height": 74
        }
      },
      "source": [
        "train_india_total_cases['TES_mul7'] = ExponentialSmoothing(train_india_total_cases['total_cases'],trend='mul',seasonal='mul',seasonal_periods=7).fit(optimized=True).fittedvalues"
      ],
      "execution_count": 0,
      "outputs": [
        {
          "output_type": "stream",
          "text": [
            "/usr/local/lib/python3.6/dist-packages/statsmodels/tsa/base/tsa_model.py:219: ValueWarning: A date index has been provided, but it has no associated frequency information and so will be ignored when e.g. forecasting.\n",
            "  ' ignored when e.g. forecasting.', ValueWarning)\n"
          ],
          "name": "stderr"
        }
      ]
    },
    {
      "cell_type": "code",
      "metadata": {
        "id": "HpAYD-JTf_kZ",
        "colab_type": "code",
        "outputId": "2495477e-df7a-4a49-fcbf-73ef8f9cf7aa",
        "colab": {
          "base_uri": "https://localhost:8080/",
          "height": 571
        }
      },
      "source": [
        "train_india_total_cases.tail(10)"
      ],
      "execution_count": 0,
      "outputs": [
        {
          "output_type": "execute_result",
          "data": {
            "text/html": [
              "<div>\n",
              "<style scoped>\n",
              "    .dataframe tbody tr th:only-of-type {\n",
              "        vertical-align: middle;\n",
              "    }\n",
              "\n",
              "    .dataframe tbody tr th {\n",
              "        vertical-align: top;\n",
              "    }\n",
              "\n",
              "    .dataframe thead th {\n",
              "        text-align: right;\n",
              "    }\n",
              "</style>\n",
              "<table border=\"1\" class=\"dataframe\">\n",
              "  <thead>\n",
              "    <tr style=\"text-align: right;\">\n",
              "      <th></th>\n",
              "      <th>total_cases</th>\n",
              "      <th>MA_3</th>\n",
              "      <th>WMA_pred</th>\n",
              "      <th>EWMA_3</th>\n",
              "      <th>DESadd2</th>\n",
              "      <th>DESmult2</th>\n",
              "      <th>TES_add7</th>\n",
              "      <th>TES_mul7</th>\n",
              "    </tr>\n",
              "    <tr>\n",
              "      <th>date</th>\n",
              "      <th></th>\n",
              "      <th></th>\n",
              "      <th></th>\n",
              "      <th></th>\n",
              "      <th></th>\n",
              "      <th></th>\n",
              "      <th></th>\n",
              "      <th></th>\n",
              "    </tr>\n",
              "  </thead>\n",
              "  <tbody>\n",
              "    <tr>\n",
              "      <th>2020-04-01</th>\n",
              "      <td>1397</td>\n",
              "      <td>1239.666667</td>\n",
              "      <td>1294.000000</td>\n",
              "      <td>1322.845476</td>\n",
              "      <td>1376.089032</td>\n",
              "      <td>1412.246825</td>\n",
              "      <td>1376.089032</td>\n",
              "      <td>1467.333438</td>\n",
              "    </tr>\n",
              "    <tr>\n",
              "      <th>2020-04-02</th>\n",
              "      <td>1965</td>\n",
              "      <td>1537.666667</td>\n",
              "      <td>1656.666667</td>\n",
              "      <td>1750.948492</td>\n",
              "      <td>1545.445245</td>\n",
              "      <td>1582.497657</td>\n",
              "      <td>1545.445245</td>\n",
              "      <td>1588.434830</td>\n",
              "    </tr>\n",
              "    <tr>\n",
              "      <th>2020-04-03</th>\n",
              "      <td>2301</td>\n",
              "      <td>1887.666667</td>\n",
              "      <td>2038.333333</td>\n",
              "      <td>2117.649497</td>\n",
              "      <td>2236.330487</td>\n",
              "      <td>2450.658430</td>\n",
              "      <td>2236.330487</td>\n",
              "      <td>2434.311075</td>\n",
              "    </tr>\n",
              "    <tr>\n",
              "      <th>2020-04-04</th>\n",
              "      <td>2902</td>\n",
              "      <td>2389.333333</td>\n",
              "      <td>2545.500000</td>\n",
              "      <td>2640.549832</td>\n",
              "      <td>2700.832765</td>\n",
              "      <td>2917.848784</td>\n",
              "      <td>2700.832765</td>\n",
              "      <td>3052.982601</td>\n",
              "    </tr>\n",
              "    <tr>\n",
              "      <th>2020-04-05</th>\n",
              "      <td>3374</td>\n",
              "      <td>2859.000000</td>\n",
              "      <td>3037.833333</td>\n",
              "      <td>3129.516611</td>\n",
              "      <td>3375.133304</td>\n",
              "      <td>3622.125732</td>\n",
              "      <td>3375.133304</td>\n",
              "      <td>3508.453513</td>\n",
              "    </tr>\n",
              "    <tr>\n",
              "      <th>2020-04-06</th>\n",
              "      <td>4067</td>\n",
              "      <td>3447.666667</td>\n",
              "      <td>3641.833333</td>\n",
              "      <td>3754.505537</td>\n",
              "      <td>3899.754976</td>\n",
              "      <td>4089.163752</td>\n",
              "      <td>3899.754976</td>\n",
              "      <td>4158.158044</td>\n",
              "    </tr>\n",
              "    <tr>\n",
              "      <th>2020-04-07</th>\n",
              "      <td>4421</td>\n",
              "      <td>3954.000000</td>\n",
              "      <td>4128.500000</td>\n",
              "      <td>4198.835179</td>\n",
              "      <td>4639.248282</td>\n",
              "      <td>4843.057666</td>\n",
              "      <td>4639.248282</td>\n",
              "      <td>4543.312574</td>\n",
              "    </tr>\n",
              "    <tr>\n",
              "      <th>2020-04-08</th>\n",
              "      <td>5194</td>\n",
              "      <td>4560.666667</td>\n",
              "      <td>4748.500000</td>\n",
              "      <td>4862.278393</td>\n",
              "      <td>4976.198977</td>\n",
              "      <td>5072.897114</td>\n",
              "      <td>4976.198977</td>\n",
              "      <td>5252.904217</td>\n",
              "    </tr>\n",
              "    <tr>\n",
              "      <th>2020-04-09</th>\n",
              "      <td>5734</td>\n",
              "      <td>5116.333333</td>\n",
              "      <td>5335.166667</td>\n",
              "      <td>5443.426131</td>\n",
              "      <td>5752.701239</td>\n",
              "      <td>5900.281420</td>\n",
              "      <td>5752.701239</td>\n",
              "      <td>5916.063942</td>\n",
              "    </tr>\n",
              "    <tr>\n",
              "      <th>2020-04-10</th>\n",
              "      <td>6412</td>\n",
              "      <td>5780.000000</td>\n",
              "      <td>5983.000000</td>\n",
              "      <td>6089.142044</td>\n",
              "      <td>6344.785095</td>\n",
              "      <td>6470.125585</td>\n",
              "      <td>6344.785095</td>\n",
              "      <td>6431.165892</td>\n",
              "    </tr>\n",
              "  </tbody>\n",
              "</table>\n",
              "</div>"
            ],
            "text/plain": [
              "            total_cases         MA_3  ...     TES_add7     TES_mul7\n",
              "date                                  ...                          \n",
              "2020-04-01         1397  1239.666667  ...  1376.089032  1467.333438\n",
              "2020-04-02         1965  1537.666667  ...  1545.445245  1588.434830\n",
              "2020-04-03         2301  1887.666667  ...  2236.330487  2434.311075\n",
              "2020-04-04         2902  2389.333333  ...  2700.832765  3052.982601\n",
              "2020-04-05         3374  2859.000000  ...  3375.133304  3508.453513\n",
              "2020-04-06         4067  3447.666667  ...  3899.754976  4158.158044\n",
              "2020-04-07         4421  3954.000000  ...  4639.248282  4543.312574\n",
              "2020-04-08         5194  4560.666667  ...  4976.198977  5252.904217\n",
              "2020-04-09         5734  5116.333333  ...  5752.701239  5916.063942\n",
              "2020-04-10         6412  5780.000000  ...  6344.785095  6431.165892\n",
              "\n",
              "[10 rows x 8 columns]"
            ]
          },
          "metadata": {
            "tags": []
          },
          "execution_count": 156
        }
      ]
    },
    {
      "cell_type": "code",
      "metadata": {
        "id": "stMUvpmxgI_r",
        "colab_type": "code",
        "outputId": "7e91a055-9234-413f-ebd4-6fb2bffa42de",
        "colab": {
          "base_uri": "https://localhost:8080/",
          "height": 415
        }
      },
      "source": [
        "train_india_total_cases[['total_cases','DESmult2','TES_mul7']]['2020-03-01':].plot(legend=True,figsize=(15,8))"
      ],
      "execution_count": 0,
      "outputs": [
        {
          "output_type": "execute_result",
          "data": {
            "text/plain": [
              "<matplotlib.axes._subplots.AxesSubplot at 0x7f3cd2e636a0>"
            ]
          },
          "metadata": {
            "tags": []
          },
          "execution_count": 159
        },
        {
          "output_type": "display_data",
          "data": {
            "image/png": "[encoded data removed]",
            "text/plain": [
              "<Figure size 1080x576 with 1 Axes>"
            ]
          },
          "metadata": {
            "tags": []
          }
        }
      ]
    },
    {
      "cell_type": "code",
      "metadata": {
        "id": "QIVsZq_1gdG0",
        "colab_type": "code",
        "outputId": "85ceb039-b302-4047-be97-a981540cdf4d",
        "colab": {
          "base_uri": "https://localhost:8080/",
          "height": 110
        }
      },
      "source": [
        "anc = ExponentialSmoothing(train_india_total_cases['total_cases'],trend='mul',seasonal='mul',seasonal_periods=7).fit(optimized=True).forecast(11)"
      ],
      "execution_count": 0,
      "outputs": [
        {
          "output_type": "stream",
          "text": [
            "/usr/local/lib/python3.6/dist-packages/statsmodels/tsa/base/tsa_model.py:219: ValueWarning: A date index has been provided, but it has no associated frequency information and so will be ignored when e.g. forecasting.\n",
            "  ' ignored when e.g. forecasting.', ValueWarning)\n",
            "/usr/local/lib/python3.6/dist-packages/statsmodels/tsa/base/tsa_model.py:576: ValueWarning: No supported index is available. Prediction results will be given with an integer index beginning at `start`.\n",
            "  ValueWarning)\n"
          ],
          "name": "stderr"
        }
      ]
    },
    {
      "cell_type": "code",
      "metadata": {
        "id": "Tcfs5sMchsTD",
        "colab_type": "code",
        "outputId": "8df01e83-8dd0-4c7c-8ccd-d015d9388dc2",
        "colab": {
          "base_uri": "https://localhost:8080/",
          "height": 55
        }
      },
      "source": [
        "anc_list = [i for i in anc]\n",
        "print(anc_list)"
      ],
      "execution_count": 0,
      "outputs": [
        {
          "output_type": "stream",
          "text": [
            "[7501.096372219227, 8255.140336263907, 9511.820503010305, 10108.905677616422, 11609.044049132537, 12914.370816664603, 14361.653482779802, 16790.455180558198, 18478.307296330564, 21291.260359325173, 22627.775898617427]\n"
          ],
          "name": "stdout"
        }
      ]
    },
    {
      "cell_type": "code",
      "metadata": {
        "id": "h9qstw-shwe1",
        "colab_type": "code",
        "colab": {}
      },
      "source": [
        "test_india_total_cases['TES_mul7'] = anc_list"
      ],
      "execution_count": 0,
      "outputs": []
    },
    {
      "cell_type": "code",
      "metadata": {
        "id": "d0NuE9ffiFYq",
        "colab_type": "code",
        "colab": {}
      },
      "source": [
        "tes_mult_rmse = np.sqrt(mean_squared_error(test_india_total_cases['total_cases'],test_india_total_cases['TES_mul7']))"
      ],
      "execution_count": 0,
      "outputs": []
    },
    {
      "cell_type": "markdown",
      "metadata": {
        "id": "HsxUbwA_ajPn",
        "colab_type": "text"
      },
      "source": [
        "### Triple exponential Smoothing (mulitiplicative sommothing RMSE)"
      ]
    },
    {
      "cell_type": "code",
      "metadata": {
        "id": "lssTwbV5iWha",
        "colab_type": "code",
        "outputId": "79168ee6-2e7f-4f88-a200-439f1992f39d",
        "colab": {
          "base_uri": "https://localhost:8080/",
          "height": 35
        }
      },
      "source": [
        "tes_mult_rmse"
      ],
      "execution_count": 0,
      "outputs": [
        {
          "output_type": "execute_result",
          "data": {
            "text/plain": [
              "3015.6198954917368"
            ]
          },
          "metadata": {
            "tags": []
          },
          "execution_count": 169
        }
      ]
    },
    {
      "cell_type": "markdown",
      "metadata": {
        "id": "iZ9M4Do8ie5z",
        "colab_type": "text"
      },
      "source": [
        "## Model Summaries"
      ]
    }
  ]
}